{
  "nbformat": 4,
  "nbformat_minor": 0,
  "metadata": {
    "colab": {
      "name": "Stacked LSTM model  on subset of Google sentence compression Thesis 1.ipynb",
      "provenance": [],
      "collapsed_sections": []
    },
    "kernelspec": {
      "name": "python3",
      "display_name": "Python 3"
    },
    "language_info": {
      "name": "python"
    },
    "accelerator": "GPU"
  },
  "cells": [
    {
      "cell_type": "code",
      "execution_count": null,
      "metadata": {
        "id": "zmNnZLX2Ny5Q"
      },
      "outputs": [],
      "source": [
        "import numpy as np \n",
        "import pandas as pd "
      ]
    },
    {
      "cell_type": "code",
      "source": [
        "from google.colab import drive\n",
        "drive.mount('/content/drive')"
      ],
      "metadata": {
        "colab": {
          "base_uri": "https://localhost:8080/"
        },
        "id": "7VHsfhwxnu9S",
        "outputId": "62cf3ff6-df31-4322-89d0-722e427dba3e"
      },
      "execution_count": null,
      "outputs": [
        {
          "output_type": "stream",
          "name": "stdout",
          "text": [
            "Mounted at /content/drive\n"
          ]
        }
      ]
    },
    {
      "cell_type": "code",
      "source": [
        "pre = pd.read_csv('/content/drive/MyDrive/Dataset/subset_googledataset.csv')"
      ],
      "metadata": {
        "id": "3URZwiIqOZvq"
      },
      "execution_count": null,
      "outputs": []
    },
    {
      "cell_type": "code",
      "source": [
        "pre.head()"
      ],
      "metadata": {
        "colab": {
          "base_uri": "https://localhost:8080/",
          "height": 206
        },
        "id": "rYUkdE7qoQt9",
        "outputId": "d6312d7e-f94f-40a5-faba-0d476c69ce85"
      },
      "execution_count": null,
      "outputs": [
        {
          "output_type": "execute_result",
          "data": {
            "text/html": [
              "\n",
              "  <div id=\"df-fec27679-56f4-445b-93ad-ec08459f8b3f\">\n",
              "    <div class=\"colab-df-container\">\n",
              "      <div>\n",
              "<style scoped>\n",
              "    .dataframe tbody tr th:only-of-type {\n",
              "        vertical-align: middle;\n",
              "    }\n",
              "\n",
              "    .dataframe tbody tr th {\n",
              "        vertical-align: top;\n",
              "    }\n",
              "\n",
              "    .dataframe thead th {\n",
              "        text-align: right;\n",
              "    }\n",
              "</style>\n",
              "<table border=\"1\" class=\"dataframe\">\n",
              "  <thead>\n",
              "    <tr style=\"text-align: right;\">\n",
              "      <th></th>\n",
              "      <th>original</th>\n",
              "      <th>compressed</th>\n",
              "    </tr>\n",
              "  </thead>\n",
              "  <tbody>\n",
              "    <tr>\n",
              "      <th>0</th>\n",
              "      <td>Serge Ibaka -- the Oklahoma City Thunder forwa...</td>\n",
              "      <td>Serge Ibaka has been granted Spanish citizensh...</td>\n",
              "    </tr>\n",
              "    <tr>\n",
              "      <th>1</th>\n",
              "      <td>MILAN -Catania held Roma to a 1-1 draw in Seri...</td>\n",
              "      <td>Catania held Roma to a 1 1 draw in Serie A.</td>\n",
              "    </tr>\n",
              "    <tr>\n",
              "      <th>2</th>\n",
              "      <td>State Street Corporation, a provider of invest...</td>\n",
              "      <td>State Street Corporation, has launched a new i...</td>\n",
              "    </tr>\n",
              "    <tr>\n",
              "      <th>3</th>\n",
              "      <td>Massey Energy, the fourth largest coal company...</td>\n",
              "      <td>Massey Energy, the coal company, could have it...</td>\n",
              "    </tr>\n",
              "    <tr>\n",
              "      <th>4</th>\n",
              "      <td>Foundation for MetroWest has awarded $55,000 i...</td>\n",
              "      <td>Foundation for MetroWest has awarded $ 55,000 ...</td>\n",
              "    </tr>\n",
              "  </tbody>\n",
              "</table>\n",
              "</div>\n",
              "      <button class=\"colab-df-convert\" onclick=\"convertToInteractive('df-fec27679-56f4-445b-93ad-ec08459f8b3f')\"\n",
              "              title=\"Convert this dataframe to an interactive table.\"\n",
              "              style=\"display:none;\">\n",
              "        \n",
              "  <svg xmlns=\"http://www.w3.org/2000/svg\" height=\"24px\"viewBox=\"0 0 24 24\"\n",
              "       width=\"24px\">\n",
              "    <path d=\"M0 0h24v24H0V0z\" fill=\"none\"/>\n",
              "    <path d=\"M18.56 5.44l.94 2.06.94-2.06 2.06-.94-2.06-.94-.94-2.06-.94 2.06-2.06.94zm-11 1L8.5 8.5l.94-2.06 2.06-.94-2.06-.94L8.5 2.5l-.94 2.06-2.06.94zm10 10l.94 2.06.94-2.06 2.06-.94-2.06-.94-.94-2.06-.94 2.06-2.06.94z\"/><path d=\"M17.41 7.96l-1.37-1.37c-.4-.4-.92-.59-1.43-.59-.52 0-1.04.2-1.43.59L10.3 9.45l-7.72 7.72c-.78.78-.78 2.05 0 2.83L4 21.41c.39.39.9.59 1.41.59.51 0 1.02-.2 1.41-.59l7.78-7.78 2.81-2.81c.8-.78.8-2.07 0-2.86zM5.41 20L4 18.59l7.72-7.72 1.47 1.35L5.41 20z\"/>\n",
              "  </svg>\n",
              "      </button>\n",
              "      \n",
              "  <style>\n",
              "    .colab-df-container {\n",
              "      display:flex;\n",
              "      flex-wrap:wrap;\n",
              "      gap: 12px;\n",
              "    }\n",
              "\n",
              "    .colab-df-convert {\n",
              "      background-color: #E8F0FE;\n",
              "      border: none;\n",
              "      border-radius: 50%;\n",
              "      cursor: pointer;\n",
              "      display: none;\n",
              "      fill: #1967D2;\n",
              "      height: 32px;\n",
              "      padding: 0 0 0 0;\n",
              "      width: 32px;\n",
              "    }\n",
              "\n",
              "    .colab-df-convert:hover {\n",
              "      background-color: #E2EBFA;\n",
              "      box-shadow: 0px 1px 2px rgba(60, 64, 67, 0.3), 0px 1px 3px 1px rgba(60, 64, 67, 0.15);\n",
              "      fill: #174EA6;\n",
              "    }\n",
              "\n",
              "    [theme=dark] .colab-df-convert {\n",
              "      background-color: #3B4455;\n",
              "      fill: #D2E3FC;\n",
              "    }\n",
              "\n",
              "    [theme=dark] .colab-df-convert:hover {\n",
              "      background-color: #434B5C;\n",
              "      box-shadow: 0px 1px 3px 1px rgba(0, 0, 0, 0.15);\n",
              "      filter: drop-shadow(0px 1px 2px rgba(0, 0, 0, 0.3));\n",
              "      fill: #FFFFFF;\n",
              "    }\n",
              "  </style>\n",
              "\n",
              "      <script>\n",
              "        const buttonEl =\n",
              "          document.querySelector('#df-fec27679-56f4-445b-93ad-ec08459f8b3f button.colab-df-convert');\n",
              "        buttonEl.style.display =\n",
              "          google.colab.kernel.accessAllowed ? 'block' : 'none';\n",
              "\n",
              "        async function convertToInteractive(key) {\n",
              "          const element = document.querySelector('#df-fec27679-56f4-445b-93ad-ec08459f8b3f');\n",
              "          const dataTable =\n",
              "            await google.colab.kernel.invokeFunction('convertToInteractive',\n",
              "                                                     [key], {});\n",
              "          if (!dataTable) return;\n",
              "\n",
              "          const docLinkHtml = 'Like what you see? Visit the ' +\n",
              "            '<a target=\"_blank\" href=https://colab.research.google.com/notebooks/data_table.ipynb>data table notebook</a>'\n",
              "            + ' to learn more about interactive tables.';\n",
              "          element.innerHTML = '';\n",
              "          dataTable['output_type'] = 'display_data';\n",
              "          await google.colab.output.renderOutput(dataTable, element);\n",
              "          const docLink = document.createElement('div');\n",
              "          docLink.innerHTML = docLinkHtml;\n",
              "          element.appendChild(docLink);\n",
              "        }\n",
              "      </script>\n",
              "    </div>\n",
              "  </div>\n",
              "  "
            ],
            "text/plain": [
              "                                            original  \\\n",
              "0  Serge Ibaka -- the Oklahoma City Thunder forwa...   \n",
              "1  MILAN -Catania held Roma to a 1-1 draw in Seri...   \n",
              "2  State Street Corporation, a provider of invest...   \n",
              "3  Massey Energy, the fourth largest coal company...   \n",
              "4  Foundation for MetroWest has awarded $55,000 i...   \n",
              "\n",
              "                                          compressed  \n",
              "0  Serge Ibaka has been granted Spanish citizensh...  \n",
              "1        Catania held Roma to a 1 1 draw in Serie A.  \n",
              "2  State Street Corporation, has launched a new i...  \n",
              "3  Massey Energy, the coal company, could have it...  \n",
              "4  Foundation for MetroWest has awarded $ 55,000 ...  "
            ]
          },
          "metadata": {},
          "execution_count": 4
        }
      ]
    },
    {
      "cell_type": "code",
      "source": [
        "pre['original'][:10]"
      ],
      "metadata": {
        "colab": {
          "base_uri": "https://localhost:8080/"
        },
        "id": "im_OZyvdoYbD",
        "outputId": "0ad240c2-fe96-473d-d1c5-54e88887f9f1"
      },
      "execution_count": null,
      "outputs": [
        {
          "output_type": "execute_result",
          "data": {
            "text/plain": [
              "0    Serge Ibaka -- the Oklahoma City Thunder forwa...\n",
              "1    MILAN -Catania held Roma to a 1-1 draw in Seri...\n",
              "2    State Street Corporation, a provider of invest...\n",
              "3    Massey Energy, the fourth largest coal company...\n",
              "4    Foundation for MetroWest has awarded $55,000 i...\n",
              "5    Wong won't rule out super raid Updated: 08:17,...\n",
              "6    TINY 'robots' that can be dropped into an indu...\n",
              "7    Jordan and South Korea have pledged to coopera...\n",
              "8    Just after the Fourth of July holiday, and onl...\n",
              "9    Tim Cowlishaw made a bad joke and now the MMA ...\n",
              "Name: original, dtype: object"
            ]
          },
          "metadata": {},
          "execution_count": 5
        }
      ]
    },
    {
      "cell_type": "code",
      "source": [
        "import re\n",
        "\n",
        "#Removes non-alphabetic characters:\n",
        "def text_strip(column):\n",
        "    for row in column:\n",
        "        \n",
        "        #ORDER OF REGEX IS VERY VERY IMPORTANT!!!!!!\n",
        "        \n",
        "        row=re.sub(\"(\\\\t)\", ' ', str(row)).lower() #remove escape charecters\n",
        "        row=re.sub(\"(\\\\r)\", ' ', str(row)).lower() \n",
        "        row=re.sub(\"(\\\\n)\", ' ', str(row)).lower()\n",
        "        \n",
        "        row=re.sub(\"(__+)\", ' ', str(row)).lower()   #remove _ if it occors more than one time consecutively\n",
        "        row=re.sub(\"(--+)\", ' ', str(row)).lower()   #remove - if it occors more than one time consecutively\n",
        "        row=re.sub(\"(~~+)\", ' ', str(row)).lower()   #remove ~ if it occors more than one time consecutively\n",
        "        row=re.sub(\"(\\+\\++)\", ' ', str(row)).lower()   #remove + if it occors more than one time consecutively\n",
        "        row=re.sub(\"(\\.\\.+)\", ' ', str(row)).lower()   #remove . if it occors more than one time consecutively\n",
        "        \n",
        "        row=re.sub(r\"[<>()|&©ø\\[\\]\\'\\\",;?~*!]\", ' ', str(row)).lower() #remove <>()|&©ø\"',;?~*!\n",
        "        \n",
        "        row=re.sub(\"(mailto:)\", ' ', str(row)).lower() #remove mailto:\n",
        "        row=re.sub(r\"(\\\\x9\\d)\", ' ', str(row)).lower() #remove \\x9* in text\n",
        "        row=re.sub(\"([iI][nN][cC]\\d+)\", 'INC_NUM', str(row)).lower() #replace INC nums to INC_NUM\n",
        "        row=re.sub(\"([cC][mM]\\d+)|([cC][hH][gG]\\d+)\", 'CM_NUM', str(row)).lower() #replace CM# and CHG# to CM_NUM\n",
        "        \n",
        "        \n",
        "        row=re.sub(\"(\\.\\s+)\", ' ', str(row)).lower() #remove full stop at end of words(not between)\n",
        "        row=re.sub(\"(\\-\\s+)\", ' ', str(row)).lower() #remove - at end of words(not between)\n",
        "        row=re.sub(\"(\\:\\s+)\", ' ', str(row)).lower() #remove : at end of words(not between)\n",
        "        \n",
        "        row=re.sub(\"(\\s+.\\s+)\", ' ', str(row)).lower() #remove any single charecters hanging between 2 spaces\n",
        "        \n",
        "        #Replace any url as such https://abc.xyz.net/browse/sdf-5327 ====> abc.xyz.net\n",
        "        try:\n",
        "            url = re.search(r'((https*:\\/*)([^\\/\\s]+))(.[^\\s]+)', str(row))\n",
        "            repl_url = url.group(3)\n",
        "            row = re.sub(r'((https*:\\/*)([^\\/\\s]+))(.[^\\s]+)',repl_url, str(row))\n",
        "        except:\n",
        "            pass #there might be emails with no url in them\n",
        "        \n",
        "\n",
        "        \n",
        "        row = re.sub(\"(\\s+)\",' ',str(row)).lower() #remove multiple spaces\n",
        "        \n",
        "        #Should always be last\n",
        "        row=re.sub(\"(\\s+.\\s+)\", ' ', str(row)).lower() #remove any single charecters hanging between 2 spaces\n",
        "\n",
        "        \n",
        "        \n",
        "        yield row"
      ],
      "metadata": {
        "id": "xe7ikDI7ogb3"
      },
      "execution_count": null,
      "outputs": []
    },
    {
      "cell_type": "code",
      "source": [
        "brief_cleaning1 = text_strip(pre['original'])\n",
        "brief_cleaning2 = text_strip(pre['compressed'])"
      ],
      "metadata": {
        "id": "DtBUEmn8olqR"
      },
      "execution_count": null,
      "outputs": []
    },
    {
      "cell_type": "code",
      "source": [
        "from time import time\n",
        "import spacy\n",
        "nlp = spacy.load('en', disable=['ner', 'parser']) # disabling Named Entity Recognition for speed\n",
        "\n",
        "#Taking advantage of spaCy .pipe() method to speed-up the cleaning process:\n",
        "#If data loss seems to be happening(i.e len(text) = 50 instead of 75 etc etc) in this cell , decrease the batch_size parametre \n",
        "\n",
        "t = time()\n",
        "\n",
        "#Batch the data points into 5000 and run on all cores for faster preprocessing\n",
        "text = [str(doc) for doc in nlp.pipe(brief_cleaning1, batch_size=5000, n_threads=-1)]\n",
        "\n",
        "#Takes 7-8 mins\n",
        "print('Time to clean up everything: {} mins'.format(round((time() - t) / 60, 2)))"
      ],
      "metadata": {
        "colab": {
          "base_uri": "https://localhost:8080/"
        },
        "id": "ZcEdkX01otKz",
        "outputId": "4b00d5d1-afd5-4ffa-efe6-99cdca04b4f6"
      },
      "execution_count": null,
      "outputs": [
        {
          "output_type": "stream",
          "name": "stdout",
          "text": [
            "Time to clean up everything: 1.34 mins\n"
          ]
        }
      ]
    },
    {
      "cell_type": "code",
      "source": [
        "#Taking advantage of spaCy .pipe() method to speed-up the cleaning process:\n",
        "\n",
        "\n",
        "t = time()\n",
        "\n",
        "#Batch the data points into 5000 and run on all cores for faster preprocessing\n",
        "summary = ['_START_ '+ str(doc) + ' _END_' for doc in nlp.pipe(brief_cleaning2, batch_size=5000, n_threads=-1)]\n",
        "\n",
        "#Takes 7-8 mins\n",
        "print('Time to clean up everything: {} mins'.format(round((time() - t) / 60, 2)))"
      ],
      "metadata": {
        "colab": {
          "base_uri": "https://localhost:8080/"
        },
        "id": "TwLuFxT5pBng",
        "outputId": "fee52b1d-3d6d-46b5-a577-27a69b7f4ffe"
      },
      "execution_count": null,
      "outputs": [
        {
          "output_type": "stream",
          "name": "stdout",
          "text": [
            "Time to clean up everything: 0.57 mins\n"
          ]
        }
      ]
    },
    {
      "cell_type": "code",
      "source": [
        "text[0]"
      ],
      "metadata": {
        "colab": {
          "base_uri": "https://localhost:8080/",
          "height": 53
        },
        "id": "jAPul7uApO8Z",
        "outputId": "9d45f14d-eb9e-48fe-ee55-e059f0e68b32"
      },
      "execution_count": null,
      "outputs": [
        {
          "output_type": "execute_result",
          "data": {
            "application/vnd.google.colaboratory.intrinsic+json": {
              "type": "string"
            },
            "text/plain": [
              "'serge ibaka the oklahoma city thunder forward who was born in the congo but played in spain has been granted spanish citizenship and will play for the country in eurobasket this summer the event where spots in the 2012 olympics will be decided.'"
            ]
          },
          "metadata": {},
          "execution_count": 10
        }
      ]
    },
    {
      "cell_type": "code",
      "source": [
        "summary[0]"
      ],
      "metadata": {
        "colab": {
          "base_uri": "https://localhost:8080/",
          "height": 35
        },
        "id": "UjYTRGJSpVtz",
        "outputId": "8a5264bc-ef96-49f5-8e85-994b38ea81b4"
      },
      "execution_count": null,
      "outputs": [
        {
          "output_type": "execute_result",
          "data": {
            "application/vnd.google.colaboratory.intrinsic+json": {
              "type": "string"
            },
            "text/plain": [
              "'_START_ serge ibaka has been granted spanish citizenship and will play in eurobasket. _END_'"
            ]
          },
          "metadata": {},
          "execution_count": 11
        }
      ]
    },
    {
      "cell_type": "code",
      "source": [
        "pre['cleaned_text'] = pd.Series(text)\n",
        "pre['cleaned_summary'] = pd.Series(summary)"
      ],
      "metadata": {
        "id": "QiDbNLF-pYvv"
      },
      "execution_count": null,
      "outputs": []
    },
    {
      "cell_type": "code",
      "source": [
        "text_count = []\n",
        "summary_count = []"
      ],
      "metadata": {
        "id": "8VnCV1G6pcEg"
      },
      "execution_count": null,
      "outputs": []
    },
    {
      "cell_type": "code",
      "source": [
        "for sent in pre['cleaned_text']:\n",
        "    text_count.append(len(sent.split()))\n",
        "for sent in pre['cleaned_summary']:\n",
        "    summary_count.append(len(sent.split()))"
      ],
      "metadata": {
        "id": "oMh3XzWDpf82"
      },
      "execution_count": null,
      "outputs": []
    },
    {
      "cell_type": "code",
      "source": [
        "graph_df= pd.DataFrame()\n",
        "graph_df['text']=text_count\n",
        "graph_df['summary']=summary_count"
      ],
      "metadata": {
        "id": "dg4pLg54plXN"
      },
      "execution_count": null,
      "outputs": []
    },
    {
      "cell_type": "code",
      "source": [
        "import matplotlib.pyplot as plt\n",
        "\n",
        "graph_df.hist(bins = 5)\n",
        "plt.show()"
      ],
      "metadata": {
        "colab": {
          "base_uri": "https://localhost:8080/",
          "height": 281
        },
        "id": "t9HET0Tlppi0",
        "outputId": "ae21c167-4336-4c8f-a2b4-5fbaa29f176c"
      },
      "execution_count": null,
      "outputs": [
        {
          "output_type": "display_data",
          "data": {
            "image/png": "[encoded data removed]",
            "text/plain": [
              "<Figure size 432x288 with 2 Axes>"
            ]
          },
          "metadata": {
            "needs_background": "light"
          }
        }
      ]
    },
    {
      "cell_type": "code",
      "source": [
        "cnt=0\n",
        "for i in pre['cleaned_summary']:\n",
        "    if(len(i.split())<=25):\n",
        "        cnt=cnt+1\n",
        "print(cnt/len(pre['cleaned_summary']))"
      ],
      "metadata": {
        "colab": {
          "base_uri": "https://localhost:8080/"
        },
        "id": "wYN_oRZZp4VS",
        "outputId": "313881a2-cb05-45dd-bf0a-df04c63c428d"
      },
      "execution_count": null,
      "outputs": [
        {
          "output_type": "stream",
          "name": "stdout",
          "text": [
            "0.9992500249991667\n"
          ]
        }
      ]
    },
    {
      "cell_type": "code",
      "source": [
        "cnt=0\n",
        "for i in pre['cleaned_text']:\n",
        "    if(len(i.split())<=100):\n",
        "        cnt=cnt+1\n",
        "print(cnt/len(pre['cleaned_text']))"
      ],
      "metadata": {
        "colab": {
          "base_uri": "https://localhost:8080/"
        },
        "id": "kNuQ04wxqAJ3",
        "outputId": "09d7ac5d-4bc2-418f-a116-83290e1d32e3"
      },
      "execution_count": null,
      "outputs": [
        {
          "output_type": "stream",
          "name": "stdout",
          "text": [
            "0.9992333588880371\n"
          ]
        }
      ]
    },
    {
      "cell_type": "code",
      "source": [
        "max_text_len=100\n",
        "max_summary_len=25"
      ],
      "metadata": {
        "id": "AcyC6w8FqHiU"
      },
      "execution_count": null,
      "outputs": []
    },
    {
      "cell_type": "code",
      "source": [
        "#Select the Summaries and Text between max len defined above\n",
        "\n",
        "cleaned_text =np.array(pre['cleaned_text'])\n",
        "cleaned_summary=np.array(pre['cleaned_summary'])\n",
        "\n",
        "short_text=[]\n",
        "short_summary=[]\n",
        "\n",
        "for i in range(len(cleaned_text)):\n",
        "    if(len(cleaned_summary[i].split())<=max_summary_len and len(cleaned_text[i].split())<=max_text_len):\n",
        "        short_text.append(cleaned_text[i])\n",
        "        short_summary.append(cleaned_summary[i])\n",
        "        \n",
        "post_pre=pd.DataFrame({'text':short_text,'summary':short_summary})"
      ],
      "metadata": {
        "id": "z8LWGDXgqM-3"
      },
      "execution_count": null,
      "outputs": []
    },
    {
      "cell_type": "code",
      "source": [
        "post_pre.head(2)"
      ],
      "metadata": {
        "colab": {
          "base_uri": "https://localhost:8080/",
          "height": 112
        },
        "id": "qGfy3OJQqOe7",
        "outputId": "fe246ac5-e5e0-4dfd-ce0e-0198e7a111a5"
      },
      "execution_count": null,
      "outputs": [
        {
          "output_type": "execute_result",
          "data": {
            "text/html": [
              "\n",
              "  <div id=\"df-90207ffb-6926-452b-99cc-42d16cdb8946\">\n",
              "    <div class=\"colab-df-container\">\n",
              "      <div>\n",
              "<style scoped>\n",
              "    .dataframe tbody tr th:only-of-type {\n",
              "        vertical-align: middle;\n",
              "    }\n",
              "\n",
              "    .dataframe tbody tr th {\n",
              "        vertical-align: top;\n",
              "    }\n",
              "\n",
              "    .dataframe thead th {\n",
              "        text-align: right;\n",
              "    }\n",
              "</style>\n",
              "<table border=\"1\" class=\"dataframe\">\n",
              "  <thead>\n",
              "    <tr style=\"text-align: right;\">\n",
              "      <th></th>\n",
              "      <th>text</th>\n",
              "      <th>summary</th>\n",
              "    </tr>\n",
              "  </thead>\n",
              "  <tbody>\n",
              "    <tr>\n",
              "      <th>0</th>\n",
              "      <td>serge ibaka the oklahoma city thunder forward ...</td>\n",
              "      <td>_START_ serge ibaka has been granted spanish c...</td>\n",
              "    </tr>\n",
              "    <tr>\n",
              "      <th>1</th>\n",
              "      <td>milan -catania held roma to 1-1 draw in serie ...</td>\n",
              "      <td>_START_ catania held roma to draw in serie a. ...</td>\n",
              "    </tr>\n",
              "  </tbody>\n",
              "</table>\n",
              "</div>\n",
              "      <button class=\"colab-df-convert\" onclick=\"convertToInteractive('df-90207ffb-6926-452b-99cc-42d16cdb8946')\"\n",
              "              title=\"Convert this dataframe to an interactive table.\"\n",
              "              style=\"display:none;\">\n",
              "        \n",
              "  <svg xmlns=\"http://www.w3.org/2000/svg\" height=\"24px\"viewBox=\"0 0 24 24\"\n",
              "       width=\"24px\">\n",
              "    <path d=\"M0 0h24v24H0V0z\" fill=\"none\"/>\n",
              "    <path d=\"M18.56 5.44l.94 2.06.94-2.06 2.06-.94-2.06-.94-.94-2.06-.94 2.06-2.06.94zm-11 1L8.5 8.5l.94-2.06 2.06-.94-2.06-.94L8.5 2.5l-.94 2.06-2.06.94zm10 10l.94 2.06.94-2.06 2.06-.94-2.06-.94-.94-2.06-.94 2.06-2.06.94z\"/><path d=\"M17.41 7.96l-1.37-1.37c-.4-.4-.92-.59-1.43-.59-.52 0-1.04.2-1.43.59L10.3 9.45l-7.72 7.72c-.78.78-.78 2.05 0 2.83L4 21.41c.39.39.9.59 1.41.59.51 0 1.02-.2 1.41-.59l7.78-7.78 2.81-2.81c.8-.78.8-2.07 0-2.86zM5.41 20L4 18.59l7.72-7.72 1.47 1.35L5.41 20z\"/>\n",
              "  </svg>\n",
              "      </button>\n",
              "      \n",
              "  <style>\n",
              "    .colab-df-container {\n",
              "      display:flex;\n",
              "      flex-wrap:wrap;\n",
              "      gap: 12px;\n",
              "    }\n",
              "\n",
              "    .colab-df-convert {\n",
              "      background-color: #E8F0FE;\n",
              "      border: none;\n",
              "      border-radius: 50%;\n",
              "      cursor: pointer;\n",
              "      display: none;\n",
              "      fill: #1967D2;\n",
              "      height: 32px;\n",
              "      padding: 0 0 0 0;\n",
              "      width: 32px;\n",
              "    }\n",
              "\n",
              "    .colab-df-convert:hover {\n",
              "      background-color: #E2EBFA;\n",
              "      box-shadow: 0px 1px 2px rgba(60, 64, 67, 0.3), 0px 1px 3px 1px rgba(60, 64, 67, 0.15);\n",
              "      fill: #174EA6;\n",
              "    }\n",
              "\n",
              "    [theme=dark] .colab-df-convert {\n",
              "      background-color: #3B4455;\n",
              "      fill: #D2E3FC;\n",
              "    }\n",
              "\n",
              "    [theme=dark] .colab-df-convert:hover {\n",
              "      background-color: #434B5C;\n",
              "      box-shadow: 0px 1px 3px 1px rgba(0, 0, 0, 0.15);\n",
              "      filter: drop-shadow(0px 1px 2px rgba(0, 0, 0, 0.3));\n",
              "      fill: #FFFFFF;\n",
              "    }\n",
              "  </style>\n",
              "\n",
              "      <script>\n",
              "        const buttonEl =\n",
              "          document.querySelector('#df-90207ffb-6926-452b-99cc-42d16cdb8946 button.colab-df-convert');\n",
              "        buttonEl.style.display =\n",
              "          google.colab.kernel.accessAllowed ? 'block' : 'none';\n",
              "\n",
              "        async function convertToInteractive(key) {\n",
              "          const element = document.querySelector('#df-90207ffb-6926-452b-99cc-42d16cdb8946');\n",
              "          const dataTable =\n",
              "            await google.colab.kernel.invokeFunction('convertToInteractive',\n",
              "                                                     [key], {});\n",
              "          if (!dataTable) return;\n",
              "\n",
              "          const docLinkHtml = 'Like what you see? Visit the ' +\n",
              "            '<a target=\"_blank\" href=https://colab.research.google.com/notebooks/data_table.ipynb>data table notebook</a>'\n",
              "            + ' to learn more about interactive tables.';\n",
              "          element.innerHTML = '';\n",
              "          dataTable['output_type'] = 'display_data';\n",
              "          await google.colab.output.renderOutput(dataTable, element);\n",
              "          const docLink = document.createElement('div');\n",
              "          docLink.innerHTML = docLinkHtml;\n",
              "          element.appendChild(docLink);\n",
              "        }\n",
              "      </script>\n",
              "    </div>\n",
              "  </div>\n",
              "  "
            ],
            "text/plain": [
              "                                                text  \\\n",
              "0  serge ibaka the oklahoma city thunder forward ...   \n",
              "1  milan -catania held roma to 1-1 draw in serie ...   \n",
              "\n",
              "                                             summary  \n",
              "0  _START_ serge ibaka has been granted spanish c...  \n",
              "1  _START_ catania held roma to draw in serie a. ...  "
            ]
          },
          "metadata": {},
          "execution_count": 21
        }
      ]
    },
    {
      "cell_type": "code",
      "source": [
        "#Add sostok and eostok at \n",
        "post_pre['summary'] = post_pre['summary'].apply(lambda x : 'sostok '+ x + ' eostok')"
      ],
      "metadata": {
        "id": "6C8ImScGqUVW"
      },
      "execution_count": null,
      "outputs": []
    },
    {
      "cell_type": "code",
      "source": [
        "post_pre.head(2)"
      ],
      "metadata": {
        "colab": {
          "base_uri": "https://localhost:8080/",
          "height": 112
        },
        "id": "dKC870cJqa9i",
        "outputId": "2f4068bb-e065-43a1-8c2c-3a271d808ad5"
      },
      "execution_count": null,
      "outputs": [
        {
          "output_type": "execute_result",
          "data": {
            "text/html": [
              "\n",
              "  <div id=\"df-826f79e3-50bf-4a50-8ded-9b0dcaa648ed\">\n",
              "    <div class=\"colab-df-container\">\n",
              "      <div>\n",
              "<style scoped>\n",
              "    .dataframe tbody tr th:only-of-type {\n",
              "        vertical-align: middle;\n",
              "    }\n",
              "\n",
              "    .dataframe tbody tr th {\n",
              "        vertical-align: top;\n",
              "    }\n",
              "\n",
              "    .dataframe thead th {\n",
              "        text-align: right;\n",
              "    }\n",
              "</style>\n",
              "<table border=\"1\" class=\"dataframe\">\n",
              "  <thead>\n",
              "    <tr style=\"text-align: right;\">\n",
              "      <th></th>\n",
              "      <th>text</th>\n",
              "      <th>summary</th>\n",
              "    </tr>\n",
              "  </thead>\n",
              "  <tbody>\n",
              "    <tr>\n",
              "      <th>0</th>\n",
              "      <td>serge ibaka the oklahoma city thunder forward ...</td>\n",
              "      <td>sostok _START_ serge ibaka has been granted sp...</td>\n",
              "    </tr>\n",
              "    <tr>\n",
              "      <th>1</th>\n",
              "      <td>milan -catania held roma to 1-1 draw in serie ...</td>\n",
              "      <td>sostok _START_ catania held roma to draw in se...</td>\n",
              "    </tr>\n",
              "  </tbody>\n",
              "</table>\n",
              "</div>\n",
              "      <button class=\"colab-df-convert\" onclick=\"convertToInteractive('df-826f79e3-50bf-4a50-8ded-9b0dcaa648ed')\"\n",
              "              title=\"Convert this dataframe to an interactive table.\"\n",
              "              style=\"display:none;\">\n",
              "        \n",
              "  <svg xmlns=\"http://www.w3.org/2000/svg\" height=\"24px\"viewBox=\"0 0 24 24\"\n",
              "       width=\"24px\">\n",
              "    <path d=\"M0 0h24v24H0V0z\" fill=\"none\"/>\n",
              "    <path d=\"M18.56 5.44l.94 2.06.94-2.06 2.06-.94-2.06-.94-.94-2.06-.94 2.06-2.06.94zm-11 1L8.5 8.5l.94-2.06 2.06-.94-2.06-.94L8.5 2.5l-.94 2.06-2.06.94zm10 10l.94 2.06.94-2.06 2.06-.94-2.06-.94-.94-2.06-.94 2.06-2.06.94z\"/><path d=\"M17.41 7.96l-1.37-1.37c-.4-.4-.92-.59-1.43-.59-.52 0-1.04.2-1.43.59L10.3 9.45l-7.72 7.72c-.78.78-.78 2.05 0 2.83L4 21.41c.39.39.9.59 1.41.59.51 0 1.02-.2 1.41-.59l7.78-7.78 2.81-2.81c.8-.78.8-2.07 0-2.86zM5.41 20L4 18.59l7.72-7.72 1.47 1.35L5.41 20z\"/>\n",
              "  </svg>\n",
              "      </button>\n",
              "      \n",
              "  <style>\n",
              "    .colab-df-container {\n",
              "      display:flex;\n",
              "      flex-wrap:wrap;\n",
              "      gap: 12px;\n",
              "    }\n",
              "\n",
              "    .colab-df-convert {\n",
              "      background-color: #E8F0FE;\n",
              "      border: none;\n",
              "      border-radius: 50%;\n",
              "      cursor: pointer;\n",
              "      display: none;\n",
              "      fill: #1967D2;\n",
              "      height: 32px;\n",
              "      padding: 0 0 0 0;\n",
              "      width: 32px;\n",
              "    }\n",
              "\n",
              "    .colab-df-convert:hover {\n",
              "      background-color: #E2EBFA;\n",
              "      box-shadow: 0px 1px 2px rgba(60, 64, 67, 0.3), 0px 1px 3px 1px rgba(60, 64, 67, 0.15);\n",
              "      fill: #174EA6;\n",
              "    }\n",
              "\n",
              "    [theme=dark] .colab-df-convert {\n",
              "      background-color: #3B4455;\n",
              "      fill: #D2E3FC;\n",
              "    }\n",
              "\n",
              "    [theme=dark] .colab-df-convert:hover {\n",
              "      background-color: #434B5C;\n",
              "      box-shadow: 0px 1px 3px 1px rgba(0, 0, 0, 0.15);\n",
              "      filter: drop-shadow(0px 1px 2px rgba(0, 0, 0, 0.3));\n",
              "      fill: #FFFFFF;\n",
              "    }\n",
              "  </style>\n",
              "\n",
              "      <script>\n",
              "        const buttonEl =\n",
              "          document.querySelector('#df-826f79e3-50bf-4a50-8ded-9b0dcaa648ed button.colab-df-convert');\n",
              "        buttonEl.style.display =\n",
              "          google.colab.kernel.accessAllowed ? 'block' : 'none';\n",
              "\n",
              "        async function convertToInteractive(key) {\n",
              "          const element = document.querySelector('#df-826f79e3-50bf-4a50-8ded-9b0dcaa648ed');\n",
              "          const dataTable =\n",
              "            await google.colab.kernel.invokeFunction('convertToInteractive',\n",
              "                                                     [key], {});\n",
              "          if (!dataTable) return;\n",
              "\n",
              "          const docLinkHtml = 'Like what you see? Visit the ' +\n",
              "            '<a target=\"_blank\" href=https://colab.research.google.com/notebooks/data_table.ipynb>data table notebook</a>'\n",
              "            + ' to learn more about interactive tables.';\n",
              "          element.innerHTML = '';\n",
              "          dataTable['output_type'] = 'display_data';\n",
              "          await google.colab.output.renderOutput(dataTable, element);\n",
              "          const docLink = document.createElement('div');\n",
              "          docLink.innerHTML = docLinkHtml;\n",
              "          element.appendChild(docLink);\n",
              "        }\n",
              "      </script>\n",
              "    </div>\n",
              "  </div>\n",
              "  "
            ],
            "text/plain": [
              "                                                text  \\\n",
              "0  serge ibaka the oklahoma city thunder forward ...   \n",
              "1  milan -catania held roma to 1-1 draw in serie ...   \n",
              "\n",
              "                                             summary  \n",
              "0  sostok _START_ serge ibaka has been granted sp...  \n",
              "1  sostok _START_ catania held roma to draw in se...  "
            ]
          },
          "metadata": {},
          "execution_count": 23
        }
      ]
    },
    {
      "cell_type": "code",
      "source": [
        "from sklearn.model_selection import train_test_split\n",
        "x_tr,x_val,y_tr,y_val=train_test_split(np.array(post_pre['text']),np.array(post_pre['summary']),test_size=0.1,random_state=0,shuffle=True)"
      ],
      "metadata": {
        "id": "cDkV2bZGqctj"
      },
      "execution_count": null,
      "outputs": []
    },
    {
      "cell_type": "code",
      "source": [
        "#Lets tokenize the text to get the vocab count , you can use Spacy here also\n",
        "\n",
        "from keras.preprocessing.text import Tokenizer \n",
        "from keras.preprocessing.sequence import pad_sequences\n",
        "\n",
        "#prepare a tokenizer for reviews on training data\n",
        "x_tokenizer = Tokenizer() \n",
        "x_tokenizer.fit_on_texts(list(x_tr))"
      ],
      "metadata": {
        "id": "YWfLibl2qkPZ"
      },
      "execution_count": null,
      "outputs": []
    },
    {
      "cell_type": "code",
      "source": [
        "thresh=4\n",
        "\n",
        "cnt=0\n",
        "tot_cnt=0\n",
        "freq=0\n",
        "tot_freq=0\n",
        "\n",
        "for key,value in x_tokenizer.word_counts.items():\n",
        "    tot_cnt=tot_cnt+1\n",
        "    tot_freq=tot_freq+value\n",
        "    if(value<thresh):\n",
        "        cnt=cnt+1\n",
        "        freq=freq+value\n",
        "    \n",
        "print(\"% of rare words in vocabulary:\",(cnt/tot_cnt)*100)\n",
        "print(\"Total Coverage of rare words:\",(freq/tot_freq)*100)"
      ],
      "metadata": {
        "colab": {
          "base_uri": "https://localhost:8080/"
        },
        "id": "6rEvEbZtqsVS",
        "outputId": "1893755a-51e7-4b15-cd15-c46111c78339"
      },
      "execution_count": null,
      "outputs": [
        {
          "output_type": "stream",
          "name": "stdout",
          "text": [
            "% of rare words in vocabulary: 68.66591265889026\n",
            "Total Coverage of rare words: 4.340942820660505\n"
          ]
        }
      ]
    },
    {
      "cell_type": "code",
      "source": [
        "#prepare a tokenizer for reviews on training data\n",
        "x_tokenizer = Tokenizer(num_words=tot_cnt-cnt) \n",
        "x_tokenizer.fit_on_texts(list(x_tr))\n",
        "\n",
        "#convert text sequences into integer sequences (i.e one-hot encodeing all the words)\n",
        "x_tr_seq    =   x_tokenizer.texts_to_sequences(x_tr) \n",
        "x_val_seq   =   x_tokenizer.texts_to_sequences(x_val)\n",
        "\n",
        "#padding zero upto maximum length\n",
        "x_tr    =   pad_sequences(x_tr_seq,  maxlen=max_text_len, padding='post')\n",
        "x_val   =   pad_sequences(x_val_seq, maxlen=max_text_len, padding='post')\n",
        "\n",
        "#size of vocabulary ( +1 for padding token)\n",
        "x_voc   =  x_tokenizer.num_words + 1\n",
        "\n",
        "print(\"Size of vocabulary in X = {}\".format(x_voc))"
      ],
      "metadata": {
        "colab": {
          "base_uri": "https://localhost:8080/"
        },
        "id": "SC5j6nD7qyvD",
        "outputId": "5edac741-760b-4493-a0eb-5eb18b08a9c4"
      },
      "execution_count": null,
      "outputs": [
        {
          "output_type": "stream",
          "name": "stdout",
          "text": [
            "Size of vocabulary in X = 18563\n"
          ]
        }
      ]
    },
    {
      "cell_type": "code",
      "source": [
        "#prepare a tokenizer for reviews on training data\n",
        "y_tokenizer = Tokenizer()   \n",
        "y_tokenizer.fit_on_texts(list(y_tr))"
      ],
      "metadata": {
        "id": "cTjJ0vgeq521"
      },
      "execution_count": null,
      "outputs": []
    },
    {
      "cell_type": "code",
      "source": [
        "thresh=6\n",
        "\n",
        "cnt=0\n",
        "tot_cnt=0\n",
        "freq=0\n",
        "tot_freq=0\n",
        "\n",
        "for key,value in y_tokenizer.word_counts.items():\n",
        "    tot_cnt=tot_cnt+1\n",
        "    tot_freq=tot_freq+value\n",
        "    if(value<thresh):\n",
        "        cnt=cnt+1\n",
        "        freq=freq+value\n",
        "    \n",
        "print(\"% of rare words in vocabulary:\",(cnt/tot_cnt)*100)\n",
        "print(\"Total Coverage of rare words:\",(freq/tot_freq)*100)"
      ],
      "metadata": {
        "colab": {
          "base_uri": "https://localhost:8080/"
        },
        "id": "_7qzc8maq9YF",
        "outputId": "9b247376-9a96-4eac-a13a-ae3e054b1c47"
      },
      "execution_count": null,
      "outputs": [
        {
          "output_type": "stream",
          "name": "stdout",
          "text": [
            "% of rare words in vocabulary: 77.97253106605625\n",
            "Total Coverage of rare words: 7.158811481255384\n"
          ]
        }
      ]
    },
    {
      "cell_type": "code",
      "source": [
        "#prepare a tokenizer for reviews on training data\n",
        "y_tokenizer = Tokenizer(num_words=tot_cnt-cnt) \n",
        "y_tokenizer.fit_on_texts(list(y_tr))\n",
        "\n",
        "#convert text sequences into integer sequences (i.e one hot encode the text in Y)\n",
        "y_tr_seq    =   y_tokenizer.texts_to_sequences(y_tr) \n",
        "y_val_seq   =   y_tokenizer.texts_to_sequences(y_val) \n",
        "\n",
        "#padding zero upto maximum length\n",
        "y_tr    =   pad_sequences(y_tr_seq, maxlen=max_summary_len, padding='post')\n",
        "y_val   =   pad_sequences(y_val_seq, maxlen=max_summary_len, padding='post')\n",
        "\n",
        "#size of vocabulary\n",
        "y_voc  =   y_tokenizer.num_words +1\n",
        "print(\"Size of vocabulary in Y = {}\".format(y_voc))"
      ],
      "metadata": {
        "colab": {
          "base_uri": "https://localhost:8080/"
        },
        "id": "bBM5Z-ThrB7C",
        "outputId": "7f53b643-feed-4c0c-80b0-776fb9fcd898"
      },
      "execution_count": null,
      "outputs": [
        {
          "output_type": "stream",
          "name": "stdout",
          "text": [
            "Size of vocabulary in Y = 8421\n"
          ]
        }
      ]
    },
    {
      "cell_type": "code",
      "source": [
        "ind=[]\n",
        "for i in range(len(y_tr)):\n",
        "    cnt=0\n",
        "    for j in y_tr[i]:\n",
        "        if j!=0:\n",
        "            cnt=cnt+1\n",
        "    if(cnt==2):\n",
        "        ind.append(i)\n",
        "\n",
        "y_tr=np.delete(y_tr,ind, axis=0)\n",
        "x_tr=np.delete(x_tr,ind, axis=0)"
      ],
      "metadata": {
        "id": "lD7V8GR5rFVs"
      },
      "execution_count": null,
      "outputs": []
    },
    {
      "cell_type": "code",
      "source": [
        "ind=[]\n",
        "for i in range(len(y_val)):\n",
        "    cnt=0\n",
        "    for j in y_val[i]:\n",
        "        if j!=0:\n",
        "            cnt=cnt+1\n",
        "    if(cnt==2):\n",
        "        ind.append(i)\n",
        "\n",
        "y_val=np.delete(y_val,ind, axis=0)\n",
        "x_val=np.delete(x_val,ind, axis=0)"
      ],
      "metadata": {
        "id": "oE7Oa5hhrJEN"
      },
      "execution_count": null,
      "outputs": []
    },
    {
      "cell_type": "code",
      "source": [
        "from keras import backend as K \n",
        "import gensim\n",
        "from numpy import *\n",
        "import numpy as np\n",
        "import pandas as pd \n",
        "import re\n",
        "from bs4 import BeautifulSoup\n",
        "from keras.preprocessing.text import Tokenizer \n",
        "from keras.preprocessing.sequence import pad_sequences\n",
        "from nltk.corpus import stopwords\n",
        "from tensorflow.keras.layers import Input, LSTM, Embedding, Dense, Concatenate, TimeDistributed\n",
        "from tensorflow.keras.models import Model\n",
        "from tensorflow.keras.callbacks import EarlyStopping\n",
        "import warnings\n",
        "pd.set_option(\"display.max_colwidth\", 200)\n",
        "warnings.filterwarnings(\"ignore\")\n",
        "\n",
        "print(\"Size of vocabulary from the w2v model = {}\".format(x_voc))\n",
        "\n",
        "K.clear_session()\n",
        "\n",
        "latent_dim = 300\n",
        "embedding_dim=200\n",
        "\n",
        "# Encoder\n",
        "encoder_inputs = Input(shape=(max_text_len,))\n",
        "\n",
        "#embedding layer\n",
        "enc_emb =  Embedding(x_voc, embedding_dim,trainable=True)(encoder_inputs)\n",
        "\n",
        "#encoder lstm 1\n",
        "encoder_lstm1 = LSTM(latent_dim,return_sequences=True,return_state=True,dropout=0.4,recurrent_dropout=0.4)\n",
        "encoder_output1, state_h1, state_c1 = encoder_lstm1(enc_emb)\n",
        "\n",
        "#encoder lstm 2\n",
        "encoder_lstm2 = LSTM(latent_dim,return_sequences=True,return_state=True,dropout=0.4,recurrent_dropout=0.4)\n",
        "encoder_output2, state_h2, state_c2 = encoder_lstm2(encoder_output1)\n",
        "\n",
        "#encoder lstm 3\n",
        "encoder_lstm3=LSTM(latent_dim, return_state=True, return_sequences=True,dropout=0.4,recurrent_dropout=0.4)\n",
        "encoder_output3, state_h3, state_c3= encoder_lstm3(encoder_output2)\n",
        "\n",
        "#encoder lstm 4\n",
        "encoder_lstm4=LSTM(latent_dim, return_state=True, return_sequences=True,dropout=0.4,recurrent_dropout=0.4)\n",
        "encoder_outputs, state_h, state_c= encoder_lstm4(encoder_output3)\n",
        "\n",
        "# Set up the decoder, using `encoder_states` as initial state.\n",
        "decoder_inputs = Input(shape=(None,))\n",
        "\n",
        "#embedding layer\n",
        "dec_emb_layer = Embedding(y_voc, embedding_dim,trainable=True)\n",
        "dec_emb = dec_emb_layer(decoder_inputs)\n",
        "\n",
        "decoder_lstm = LSTM(latent_dim, return_sequences=True, return_state=True,dropout=0.4,recurrent_dropout=0.2)\n",
        "decoder_outputs,decoder_fwd_state, decoder_back_state = decoder_lstm(dec_emb,initial_state=[state_h, state_c])\n",
        "\n",
        "#dense layer\n",
        "decoder_dense =  TimeDistributed(Dense(y_voc, activation='softmax'))\n",
        "decoder_outputs = decoder_dense(decoder_outputs)\n",
        "\n",
        "# Define the model \n",
        "model = Model([encoder_inputs, decoder_inputs], decoder_outputs)\n",
        "\n",
        "model.summary()"
      ],
      "metadata": {
        "colab": {
          "base_uri": "https://localhost:8080/"
        },
        "id": "VwrnymF2rPCQ",
        "outputId": "e72813d3-2b5b-498e-cd5d-34c46890da57"
      },
      "execution_count": null,
      "outputs": [
        {
          "output_type": "stream",
          "name": "stdout",
          "text": [
            "Size of vocabulary from the w2v model = 18563\n",
            "WARNING:tensorflow:Layer lstm will not use cuDNN kernels since it doesn't meet the criteria. It will use a generic GPU kernel as fallback when running on GPU.\n",
            "WARNING:tensorflow:Layer lstm_1 will not use cuDNN kernels since it doesn't meet the criteria. It will use a generic GPU kernel as fallback when running on GPU.\n",
            "WARNING:tensorflow:Layer lstm_2 will not use cuDNN kernels since it doesn't meet the criteria. It will use a generic GPU kernel as fallback when running on GPU.\n",
            "WARNING:tensorflow:Layer lstm_3 will not use cuDNN kernels since it doesn't meet the criteria. It will use a generic GPU kernel as fallback when running on GPU.\n",
            "WARNING:tensorflow:Layer lstm_4 will not use cuDNN kernels since it doesn't meet the criteria. It will use a generic GPU kernel as fallback when running on GPU.\n",
            "Model: \"model\"\n",
            "__________________________________________________________________________________________________\n",
            " Layer (type)                   Output Shape         Param #     Connected to                     \n",
            "==================================================================================================\n",
            " input_1 (InputLayer)           [(None, 100)]        0           []                               \n",
            "                                                                                                  \n",
            " embedding (Embedding)          (None, 100, 200)     3712600     ['input_1[0][0]']                \n",
            "                                                                                                  \n",
            " lstm (LSTM)                    [(None, 100, 300),   601200      ['embedding[0][0]']              \n",
            "                                 (None, 300),                                                     \n",
            "                                 (None, 300)]                                                     \n",
            "                                                                                                  \n",
            " lstm_1 (LSTM)                  [(None, 100, 300),   721200      ['lstm[0][0]']                   \n",
            "                                 (None, 300),                                                     \n",
            "                                 (None, 300)]                                                     \n",
            "                                                                                                  \n",
            " input_2 (InputLayer)           [(None, None)]       0           []                               \n",
            "                                                                                                  \n",
            " lstm_2 (LSTM)                  [(None, 100, 300),   721200      ['lstm_1[0][0]']                 \n",
            "                                 (None, 300),                                                     \n",
            "                                 (None, 300)]                                                     \n",
            "                                                                                                  \n",
            " embedding_1 (Embedding)        (None, None, 200)    1684200     ['input_2[0][0]']                \n",
            "                                                                                                  \n",
            " lstm_3 (LSTM)                  [(None, 100, 300),   721200      ['lstm_2[0][0]']                 \n",
            "                                 (None, 300),                                                     \n",
            "                                 (None, 300)]                                                     \n",
            "                                                                                                  \n",
            " lstm_4 (LSTM)                  [(None, None, 300),  601200      ['embedding_1[0][0]',            \n",
            "                                 (None, 300),                     'lstm_3[0][1]',                 \n",
            "                                 (None, 300)]                     'lstm_3[0][2]']                 \n",
            "                                                                                                  \n",
            " time_distributed (TimeDistribu  (None, None, 8421)  2534721     ['lstm_4[0][0]']                 \n",
            " ted)                                                                                             \n",
            "                                                                                                  \n",
            "==================================================================================================\n",
            "Total params: 11,297,521\n",
            "Trainable params: 11,297,521\n",
            "Non-trainable params: 0\n",
            "__________________________________________________________________________________________________\n"
          ]
        }
      ]
    },
    {
      "cell_type": "code",
      "source": [
        "model.compile(optimizer='rmsprop', loss='sparse_categorical_crossentropy')"
      ],
      "metadata": {
        "id": "4EjvAbhprUWv"
      },
      "execution_count": null,
      "outputs": []
    },
    {
      "cell_type": "code",
      "source": [
        "es = EarlyStopping(monitor='val_loss', mode='min', verbose=1,patience=2)"
      ],
      "metadata": {
        "id": "afxmDatKrZOb"
      },
      "execution_count": null,
      "outputs": []
    },
    {
      "cell_type": "code",
      "source": [
        "history=model.fit([x_tr,y_tr[:,:-1]], y_tr.reshape(y_tr.shape[0],y_tr.shape[1], 1)[:,1:] ,epochs=5,callbacks=[es],batch_size=256, validation_data=([x_val,y_val[:,:-1]], y_val.reshape(y_val.shape[0],y_val.shape[1], 1)[:,1:]))"
      ],
      "metadata": {
        "colab": {
          "base_uri": "https://localhost:8080/"
        },
        "id": "Kb0Z07H2rcMG",
        "outputId": "db9e7267-0055-4166-f9ff-0a99dda3839e"
      },
      "execution_count": null,
      "outputs": [
        {
          "output_type": "stream",
          "name": "stdout",
          "text": [
            "Epoch 1/5\n",
            "211/211 [==============================] - 550s 3s/step - loss: 2.7432 - val_loss: 2.3595\n",
            "Epoch 2/5\n",
            "211/211 [==============================] - 516s 2s/step - loss: 2.3229 - val_loss: 2.2105\n",
            "Epoch 3/5\n",
            "211/211 [==============================] - 524s 2s/step - loss: 2.1978 - val_loss: 2.1259\n",
            "Epoch 4/5\n",
            "211/211 [==============================] - 519s 2s/step - loss: 2.1252 - val_loss: 2.0787\n",
            "Epoch 5/5\n",
            "211/211 [==============================] - 522s 2s/step - loss: 2.0692 - val_loss: 2.0369\n"
          ]
        }
      ]
    },
    {
      "cell_type": "code",
      "source": [
        "history=model.fit([x_tr,y_tr[:,:-1]], y_tr.reshape(y_tr.shape[0],y_tr.shape[1], 1)[:,1:] ,epochs=5,callbacks=[es],batch_size=256, validation_data=([x_val,y_val[:,:-1]], y_val.reshape(y_val.shape[0],y_val.shape[1], 1)[:,1:]))"
      ],
      "metadata": {
        "colab": {
          "base_uri": "https://localhost:8080/"
        },
        "id": "mL_-0SJT04IT",
        "outputId": "d8545f43-671b-45b4-f44a-4f253ea066b2"
      },
      "execution_count": null,
      "outputs": [
        {
          "output_type": "stream",
          "name": "stdout",
          "text": [
            "Epoch 1/5\n",
            "211/211 [==============================] - 520s 2s/step - loss: 2.0146 - val_loss: 1.9977\n",
            "Epoch 2/5\n",
            "211/211 [==============================] - 516s 2s/step - loss: 1.9668 - val_loss: 1.9637\n",
            "Epoch 3/5\n",
            "211/211 [==============================] - 523s 2s/step - loss: 1.9167 - val_loss: 1.9286\n",
            "Epoch 4/5\n",
            "211/211 [==============================] - 532s 3s/step - loss: 1.8743 - val_loss: 1.8995\n",
            "Epoch 5/5\n",
            "211/211 [==============================] - 524s 2s/step - loss: 1.8368 - val_loss: 1.8797\n"
          ]
        }
      ]
    },
    {
      "cell_type": "code",
      "source": [
        "history=model.fit([x_tr,y_tr[:,:-1]], y_tr.reshape(y_tr.shape[0],y_tr.shape[1], 1)[:,1:] ,epochs=5,callbacks=[es],batch_size=256, validation_data=([x_val,y_val[:,:-1]], y_val.reshape(y_val.shape[0],y_val.shape[1], 1)[:,1:]))"
      ],
      "metadata": {
        "colab": {
          "base_uri": "https://localhost:8080/"
        },
        "id": "YaedxJyE_8B1",
        "outputId": "e665e3eb-19e3-46ba-e348-8076dc0cc787"
      },
      "execution_count": null,
      "outputs": [
        {
          "output_type": "stream",
          "name": "stdout",
          "text": [
            "Epoch 1/5\n",
            "211/211 [==============================] - 528s 3s/step - loss: 1.8000 - val_loss: 1.8553\n",
            "Epoch 2/5\n",
            "211/211 [==============================] - 524s 2s/step - loss: 1.7659 - val_loss: 1.8361\n",
            "Epoch 3/5\n",
            "211/211 [==============================] - 515s 2s/step - loss: 1.7322 - val_loss: 1.8190\n",
            "Epoch 4/5\n",
            "211/211 [==============================] - 510s 2s/step - loss: 1.7009 - val_loss: 1.7979\n",
            "Epoch 5/5\n",
            "211/211 [==============================] - 521s 2s/step - loss: 1.6678 - val_loss: 1.7766\n"
          ]
        }
      ]
    },
    {
      "cell_type": "code",
      "source": [
        "from matplotlib import pyplot\n",
        "pyplot.plot(history.history['loss'], label='train')\n",
        "pyplot.plot(history.history['val_loss'], label='test')\n",
        "pyplot.legend()\n",
        "pyplot.show()"
      ],
      "metadata": {
        "colab": {
          "base_uri": "https://localhost:8080/",
          "height": 265
        },
        "id": "UZ3Zu6xgD3As",
        "outputId": "525cd4f7-ab80-4f37-87a1-b69ef617fbed"
      },
      "execution_count": null,
      "outputs": [
        {
          "output_type": "display_data",
          "data": {
            "image/png": "[encoded data removed]",
            "text/plain": [
              "<Figure size 432x288 with 1 Axes>"
            ]
          },
          "metadata": {
            "needs_background": "light"
          }
        }
      ]
    },
    {
      "cell_type": "code",
      "source": [
        "# serialize model to JSON\n",
        "model_json = model.to_json()\n",
        "with open(\"efficient.json\", \"w\") as json_file:\n",
        "    json_file.write(model_json)\n",
        "# serialize weights to HDF5\n",
        "model.save_weights(\"efficient.h5\")\n",
        "print(\"Saved model 25 to disk\")"
      ],
      "metadata": {
        "colab": {
          "base_uri": "https://localhost:8080/"
        },
        "id": "26aj33_IJZax",
        "outputId": "ffafabd1-20e7-4dfe-ad84-b9623a16516a"
      },
      "execution_count": null,
      "outputs": [
        {
          "output_type": "stream",
          "name": "stdout",
          "text": [
            "Saved model 25 to disk\n"
          ]
        }
      ]
    },
    {
      "cell_type": "code",
      "source": [
        "reverse_target_word_index=y_tokenizer.index_word\n",
        "reverse_source_word_index=x_tokenizer.index_word\n",
        "target_word_index=y_tokenizer.word_index"
      ],
      "metadata": {
        "id": "5JQ5zz0vD60n"
      },
      "execution_count": null,
      "outputs": []
    },
    {
      "cell_type": "code",
      "source": [
        "# Encode the input sequence to get the feature vector\n",
        "encoder_model = Model(inputs=encoder_inputs,outputs=[encoder_outputs, state_h, state_c])\n",
        "\n",
        "# Decoder setup\n",
        "# Below tensors will hold the states of the previous time step\n",
        "decoder_state_input_h = Input(shape=(latent_dim,))\n",
        "decoder_state_input_c = Input(shape=(latent_dim,))\n",
        "decoder_hidden_state_input = Input(shape=(max_text_len,latent_dim))\n",
        "\n",
        "# Get the embeddings of the decoder sequence\n",
        "dec_emb2= dec_emb_layer(decoder_inputs) \n",
        "# To predict the next word in the sequence, set the initial states to the states from the previous time step\n",
        "decoder_outputs2, state_h2, state_c2 = decoder_lstm(dec_emb2, initial_state=[decoder_state_input_h, decoder_state_input_c])\n",
        "\n",
        "# A dense softmax layer to generate prob dist. over the target vocabulary\n",
        "decoder_outputs2 = decoder_dense(decoder_outputs2) \n",
        "\n",
        "# Final decoder model\n",
        "decoder_model = Model(\n",
        "    [decoder_inputs] + [decoder_hidden_state_input,decoder_state_input_h, decoder_state_input_c],\n",
        "    [decoder_outputs2] + [state_h2, state_c2])"
      ],
      "metadata": {
        "id": "OOIf7BnjEBaz"
      },
      "execution_count": null,
      "outputs": []
    },
    {
      "cell_type": "code",
      "source": [
        "def decode_sequence(input_seq):\n",
        "    # Encode the input as state vectors.\n",
        "    e_out, e_h, e_c = encoder_model.predict(input_seq)\n",
        "    \n",
        "    # Generate empty target sequence of length 1.\n",
        "    target_seq = np.zeros((1,1))\n",
        "    \n",
        "    # Populate the first word of target sequence with the start word.\n",
        "    target_seq[0, 0] = target_word_index['sostok']\n",
        "\n",
        "    stop_condition = False\n",
        "    decoded_sentence = ''\n",
        "    while not stop_condition:\n",
        "      \n",
        "        output_tokens, h, c = decoder_model.predict([target_seq] + [e_out, e_h, e_c])\n",
        "\n",
        "        # Sample a token\n",
        "        sampled_token_index = np.argmax(output_tokens[0, -1, :])\n",
        "        sampled_token = reverse_target_word_index[sampled_token_index]\n",
        "        \n",
        "        if(sampled_token!='eostok'):\n",
        "            decoded_sentence += ' '+sampled_token\n",
        "\n",
        "        # Exit condition: either hit max length or find stop word.\n",
        "        if (sampled_token == 'eostok'  or len(decoded_sentence.split()) >= (max_summary_len-1)):\n",
        "            stop_condition = True\n",
        "\n",
        "        # Update the target sequence (of length 1).\n",
        "        target_seq = np.zeros((1,1))\n",
        "        target_seq[0, 0] = sampled_token_index\n",
        "\n",
        "        # Update internal states\n",
        "        e_h, e_c = h, c\n",
        "\n",
        "    return decoded_sentence"
      ],
      "metadata": {
        "id": "_JrhxMVDEGTb"
      },
      "execution_count": null,
      "outputs": []
    },
    {
      "cell_type": "code",
      "source": [
        "def seq2summary(input_seq):\n",
        "    newString=''\n",
        "    for i in input_seq:\n",
        "        if((i!=0 and i!=target_word_index['sostok']) and i!=target_word_index['eostok']):\n",
        "            newString=newString+reverse_target_word_index[i]+' '\n",
        "    return newString\n",
        "\n",
        "def seq2text(input_seq):\n",
        "    newString=''\n",
        "    for i in input_seq:\n",
        "        if(i!=0):\n",
        "            newString=newString+reverse_source_word_index[i]+' '\n",
        "    return newString"
      ],
      "metadata": {
        "id": "YkXKVp1oEJrJ"
      },
      "execution_count": null,
      "outputs": []
    },
    {
      "cell_type": "code",
      "source": [
        "for i in range(0,100):\n",
        "    print(\"Review:\",seq2text(x_tr[i]))\n",
        "    print(\"Original summary:\",seq2summary(y_tr[i]))\n",
        "    print(\"Predicted summary:\",decode_sequence(x_tr[i].reshape(1,max_text_len)))\n",
        "    print(\"\\n\")"
      ],
      "metadata": {
        "colab": {
          "base_uri": "https://localhost:8080/"
        },
        "id": "7wgcaJxPEN9V",
        "outputId": "d4a16b48-1c17-4402-a3c3-1bf59e49ce63"
      },
      "execution_count": null,
      "outputs": [
        {
          "output_type": "stream",
          "name": "stdout",
          "text": [
            "Review: the obama administration on tuesday lifted its deepwater drilling ban six weeks ahead of schedule stating that new rules are sufficient to protect against future oil \n",
            "Original summary: start the obama administration lifted its drilling ban end \n",
            "Predicted summary:  start the us government approved the first time to the us end\n",
            "\n",
            "\n",
            "Review: minimum monthly wage in latvia will be raised to 180 starting january 2009 the government decided today \n",
            "Original summary: start minimum monthly wage in will be raised to 180 starting january 2009 end \n",
            "Predicted summary:  start will be closed end\n",
            "\n",
            "\n",
            "Review: an alligator spent tuesday night in the cells of police station in south eastern france after local woman found it on road outside restaurant \n",
            "Original summary: start an spent night in the cells found end \n",
            "Predicted summary:  start an man pleaded guilty to charges end\n",
            "\n",
            "\n",
            "Review: the london based money manager which has been among the most investors in the irish stock market for the past two decades plans to raise more than in its initial public offering \n",
            "Original summary: start plans to raise more than in its initial offering end \n",
            "Predicted summary:  start the has been awarded the first time of the end\n",
            "\n",
            "\n",
            "Review: treasury secretary henry paulson says the current financial challenges facing the country will persist for number of months but he said the economy will rebound \n",
            "Original summary: start henry says the current challenges will persist for number of months but he said the economy will rebound end \n",
            "Predicted summary:  start the will be end\n",
            "\n",
            "\n",
            "Review: an illegal worker was found at an essex pub during raid by immigration officers \n",
            "Original summary: start an illegal worker was found at an pub end \n",
            "Predicted summary:  start an man was arrested on charges of child end\n",
            "\n",
            "\n",
            "Review: the australian share market on friday closed firmer after strong gains in the resources retail and telecommunication sectors \n",
            "Original summary: start the australian share market closed firmer end \n",
            "Predicted summary:  start the us dollar fell against the dollar end\n",
            "\n",
            "\n",
            "Review: panda express restaurant is giving away free thai chicken breasts today wednesday july 14 2010 \n",
            "Original summary: start panda express restaurant is giving away free thai chicken end \n",
            "Predicted summary:  start is set to launch its first store in the end of the end\n",
            "\n",
            "\n",
            "Review: britain must remain open for business despite this week strike by public sector workers immigration minister damian green said on saturday \n",
            "Original summary: start britain must remain open for business end \n",
            "Predicted summary:  start a fire destroyed two home end\n",
            "\n",
            "\n",
            "Review: singapore airlines said tuesday it returned to profit in the three months to the end of december following losses in the two preceding quarters \n",
            "Original summary: start singapore airlines returned to profit end \n",
            "Predicted summary:  start plans to sell its stake in the us end\n",
            "\n",
            "\n",
            "Review: the us military estimates that air force one costs the taxpayers per hour to run \n",
            "Original summary: start the military estimates air force one costs per hour end \n",
            "Predicted summary:  start the us government approved the first time to the us end\n",
            "\n",
            "\n",
            "Review: the philadelphia area woman authorities say dubbed herself jihad jane online pleaded not guilty thursday in federal court to four count indictment charging her in an overseas terrorist plot \n",
            "Original summary: start jihad jane online pleaded not guilty end \n",
            "Predicted summary:  start the former president of pop died end\n",
            "\n",
            "\n",
            "Review: japanese land prices fell at slower pace in june compared to year earlier figures showed on tuesday \n",
            "Original summary: start japanese land prices fell in june end \n",
            "Predicted summary:  start stocks rose end\n",
            "\n",
            "\n",
            "Review: uk says its private wealth advisers will offer hybrid advice model with clients first offered restricted model based around products and services with the option to go whole of market if this does not meet their needs \n",
            "Original summary: start uk says its will offer hybrid advice model end \n",
            "Predicted summary:  start will be closed its doors end\n",
            "\n",
            "\n",
            "Review: chris klein has served four days in jail and completed two months in rehab people reports \n",
            "Original summary: start chris has served four days in jail end \n",
            "Predicted summary:  start jennifer aniston has been arrested end\n",
            "\n",
            "\n",
            "Review: a campaign to vote the climate is using an online petition and real life ad campaign to encourage young people to put the environment first on oct 14 \n",
            "Original summary: start a campaign to vote the climate is using end \n",
            "Predicted summary:  start a man is facing charges after he was stabbed end\n",
            "\n",
            "\n",
            "Review: as per reports and from our sources an egyptian commodities buyer bought 000 metric tons of sunflower oil and 25 000 tons of soybean oil at tender today the sunflower oil was bought at 1 ton and the soybean oil at 1 85 ton according to the traders \n",
            "Original summary: start an egyptian commodities buyer bought 000 tons and 25 000 tons of soybean oil at tender oil was bought end \n",
            "Predicted summary:  start the us economy may be end\n",
            "\n",
            "\n",
            "Review: holden will cut production at its adelaide assembly operations in july and august on the commodore \n",
            "Original summary: start will cut production on the end \n",
            "Predicted summary:  start will be the of the end\n",
            "\n",
            "\n",
            "Review: centre nick collison has signed multi year contract extension with the oklahoma city thunder \n",
            "Original summary: start nick has signed multi year extension with the oklahoma city thunder end \n",
            "Predicted summary:  start has been named the first time of the world cup end\n",
            "\n",
            "\n",
            "Review: rajasthan royals thrashed kings xi punjab by eight wickets at punjab cricket association stadium here on thursday \n",
            "Original summary: start rajasthan royals thrashed kings xi punjab end \n",
            "Predicted summary:  start won the first time end\n",
            "\n",
            "\n",
            "Review: the kentucky women tennis squad continues fall action in nashville tenn for the june stewart invitational oct 17 19 \n",
            "Original summary: start the kentucky women tennis squad continues fall action in nashville end \n",
            "Predicted summary:  start the new york times won the first time end\n",
            "\n",
            "\n",
            "Review: health minister ivan held another round of talks with representatives of doctors working at state run hospitals on the evening of november 21 in an effort to avert the threat of about third of them resigning from their hospitals at the beginning of december the newswire reported \n",
            "Original summary: start ivan held another round of talks with representatives of doctors end \n",
            "Predicted summary:  start the us president arrived in the end\n",
            "\n",
            "\n",
            "Review: marshall was charged with assault actual bodily harm after being interviewed by detectives at north sydney police station on sunday afternoon \n",
            "Original summary: start marshall was charged with assault end \n",
            "Predicted summary:  start was arrested end\n",
            "\n",
            "\n",
            "Review: admiral aircraft carrier february russian warships will continue exercises in the world ocean navy commander admiral vladimir told the crews of the north fleet group that returned to base from an oceanic \n",
            "Original summary: start russian warships will continue in the world ocean end \n",
            "Predicted summary:  start will be closed its doors end\n",
            "\n",
            "\n",
            "Review: the anc on tuesday lodged complaint with the about violence in which the party claimed was by supporters \n",
            "Original summary: start the anc lodged complaint with the end \n",
            "Predicted summary:  start the city of the state of the state of the state of the new york times was arrested end\n",
            "\n",
            "\n",
            "Review: newport was named the most expensive summer getaway in the united states in survey by com \n",
            "Original summary: start newport was named the most expensive summer end \n",
            "Predicted summary:  start was the first time to the end\n",
            "\n",
            "\n",
            "Review: a concerned father was attacked by pack of teenagers saturday when he attempted to pick his daughter up from norwalk house party before she was ready to leave police said \n",
            "Original summary: start a father attempted to pick his daughter end \n",
            "Predicted summary:  start a woman was arrested on charges of child end\n",
            "\n",
            "\n",
            "Review: cascades inc leader in the recovery and the manufacturing of green packaging and tissue paper products continues to consolidate its operations and announces the permanent closure of cascades located in toronto \n",
            "Original summary: start inc continues to consolidate its operations end \n",
            "Predicted summary:  start inc announced the launch of its first quarter end\n",
            "\n",
            "\n",
            "Review: liquidity deficit in the system crossed rs lakh crore on the first day of the reporting fortnight with banks rushing to cover product needs \n",
            "Original summary: start liquidity deficit crossed rs lakh crore end \n",
            "Predicted summary:  start the us economy may be closed end\n",
            "\n",
            "\n",
            "Review: washington barack obama appeared tuesday in his bid to become the first black president in us history propelled by americans by his message of hope change and promise \n",
            "Original summary: start barack obama appeared tuesday end \n",
            "Predicted summary:  start barack obama said he would not seek re election end\n",
            "\n",
            "\n",
            "Review: belgium today is pleased to announce the release of bit vs 16 bit 1 0 for ios an old retro style game with an all new simple and addictive concept including and game center support \n",
            "Original summary: start today is pleased to announce the release of bit vs 16 bit 1 0 for ios end \n",
            "Predicted summary:  start is set to play in the end\n",
            "\n",
            "\n",
            "Review: ap photo damian steve alford says he won be paying 1 million buyout to new mexico \n",
            "Original summary: start photo steve says he won be paying million buyout to new mexico end \n",
            "Predicted summary:  start he will be playing in the end\n",
            "\n",
            "\n",
            "Review: in move to quell criticism over its handling of user privacy facebook has launched dedicated privacy page \n",
            "Original summary: start facebook has launched privacy page end \n",
            "Predicted summary:  start has launched its new website end\n",
            "\n",
            "\n",
            "Review: a sri lankan man has died while trying to set record for the longest time spent buried alive police said monday \n",
            "Original summary: start a sri lankan man has died while trying to set record for the longest time spent buried alive end \n",
            "Predicted summary:  start a man has been charged with murder end\n",
            "\n",
            "\n",
            "Review: a 16 year old girl from rice was airlifted to the st cloud hospital after falling off truck \n",
            "Original summary: start a girl was airlifted after falling off truck end \n",
            "Predicted summary:  start a former teacher was arrested on charges of sexual assault end\n",
            "\n",
            "\n",
            "Review: arizona republican gov jan brewer who is no great friend of president barack obama accidentally endorsed him wednesday evening in an interview with msnbc \n",
            "Original summary: start jan brewer accidentally endorsed barack obama end \n",
            "Predicted summary:  start john mccain won the first time end\n",
            "\n",
            "\n",
            "Review: the psa peugeot citroën group welcomes the €3 billion loan from the french state which will be used in particular to support the group programme to develop cleaner more fuel efficient and more affordable vehicles \n",
            "Original summary: start the psa peugeot group welcomes the billion loan from the french state end \n",
            "Predicted summary:  start the of the new york times announced the launch of the new york end\n",
            "\n",
            "\n",
            "Review: walgreens had july sales of 4 700 000 an increase of 10 7 percent from 4 000 for the same month in 2007 \n",
            "Original summary: start walgreens had july sales an increase of 10 7 percent end \n",
            "Predicted summary:  start and india agreed to buy end\n",
            "\n",
            "\n",
            "Review: kuwaiti export crude dropped 1 00 on monday and came to 40 18 per barrel after having been at 41 18 the previous day said kuwait petroleum corporation on tuesday \n",
            "Original summary: start kuwaiti crude dropped and came to 40 18 end \n",
            "Predicted summary:  start us shares fell in april end\n",
            "\n",
            "\n",
            "Review: gov rick scott has vetoed bill that would have ended permanent in florida \n",
            "Original summary: start rick scott has vetoed bill that would have ended permanent end \n",
            "Predicted summary:  start peter has been arrested on suspicion of assault end\n",
            "\n",
            "\n",
            "Review: a man whose family said he was drug was shot dead in sea lots port of spain yesterday \n",
            "Original summary: start a drug was shot dead end \n",
            "Predicted summary:  start a man was arrested on charges of child end\n",
            "\n",
            "\n",
            "Review: washington michelle obama the first lady of the united states will visit mexico next month on her first trip abroad without her husband the white house said friday \n",
            "Original summary: start michelle obama will visit mexico end \n",
            "Predicted summary:  start barack obama will be the first time to the us end\n",
            "\n",
            "\n",
            "Review: we need to enact term limits and campaign finance reform to give leaders the voice they need to tell us the truth that we need to take some difficult but not disastrous steps to right our ship and restructure our national financial system \n",
            "Original summary: start we need to term limits and campaign finance reform end \n",
            "Predicted summary:  start a man was killed in crash end\n",
            "\n",
            "\n",
            "Review: a 21 year old man has been arrested over an attack in the east end of glasgow which left another man seriously injured \n",
            "Original summary: start a man has been arrested over an attack end \n",
            "Predicted summary:  start a man has been charged with assault end\n",
            "\n",
            "\n",
            "Review: the killers would love to team up with muse for track and singer brandon flowers thinks they would make spectacular song together \n",
            "Original summary: start the killers would love to team up with end \n",
            "Predicted summary:  start the chicago cubs signed veteran end\n",
            "\n",
            "\n",
            "Review: the opened the bank of america cape may jazz festival fri nov 12 at the star of the sea auditorium \n",
            "Original summary: start the opened cape may jazz festival end \n",
            "Predicted summary:  start the us navy and they re signed an emergency end\n",
            "\n",
            "\n",
            "Review: asus latest transformer tablet the quad core transformer prime has finally showed its face in some real reviews and although there are couple of glitches the high quality build and good screen certainly make this one the best tablets around \n",
            "Original summary: start asus tablet has showed in some reviews end \n",
            "Predicted summary:  start has launched its first website end\n",
            "\n",
            "\n",
            "Review: a bc man has pled guilty to neglecting body after police looking for grow op found human remains buried on property in maple ridge \n",
            "Original summary: start a bc man has pled guilty to body end \n",
            "Predicted summary:  start a man has been charged with murder end\n",
            "\n",
            "\n",
            "Review: washington the internal revenue service today announced that it will extend help to more innocent spouses by eliminating the two year time limit that now to certain relief requests \n",
            "Original summary: start the internal revenue service will extend help to more innocent end \n",
            "Predicted summary:  start will be the of the end\n",
            "\n",
            "\n",
            "Review: heavy rain has poured over the olympic torch relay route from cumbria to lancashire as the flame tried to make its way the british media reported \n",
            "Original summary: start heavy rain has over the olympic torch relay route end \n",
            "Predicted summary:  start has launched its first website end\n",
            "\n",
            "\n",
            "Review: a water line break caused mess on pittsburgh road and left several customers without service friday morning \n",
            "Original summary: start a water line break caused end \n",
            "Predicted summary:  start a fire destroyed an home end\n",
            "\n",
            "\n",
            "Review: garbage is piling up in northeast ohio as an ongoing strike by republic services workers continues \n",
            "Original summary: start is up as an strike continues end \n",
            "Predicted summary:  start is set to launch its first store in the end\n",
            "\n",
            "\n",
            "Review: canadians need better jobs and more of them for real economic recovery to occur says ken president of the canadian labour congress \n",
            "Original summary: start canadians need better jobs and more of them end \n",
            "Predicted summary:  start and have agreed to sell the us gas rate end\n",
            "\n",
            "\n",
            "Review: the nationalist party made huge strategic mistake in taking position against divorce as it the substantial amount of liberals inside the party former minister michael said \n",
            "Original summary: start the party made huge mistake in taking position minister michael said end \n",
            "Predicted summary:  start the new york times today announced the launch of the new york city end\n",
            "\n",
            "\n",
            "Review: area students graduated from carl albert state college in on may 10 in the mick thompson fitness center \n",
            "Original summary: start area students graduated from carl albert state college end \n",
            "Predicted summary:  start the city of the city of the new york times have been assigned patent end\n",
            "\n",
            "\n",
            "Review: capital murder charges have been dropped against two young men accused in the murder of james at apartments in mid january \n",
            "Original summary: start murder charges have been dropped against two men end \n",
            "Predicted summary:  start are being urged to help their own end\n",
            "\n",
            "\n",
            "Review: legendary tv personality ian has died just over year after being diagnosed with cancer \n",
            "Original summary: start legendary tv personality ian has died end \n",
            "Predicted summary:  start has won the first round of the season end\n",
            "\n",
            "\n",
            "Review: one playing field vital to local sport is being sold off almost every week despite government safeguards meant to prevent this figures released today by sport england have shown \n",
            "Original summary: start one playing field vital is being sold off almost every week end \n",
            "Predicted summary:  start what is to be end\n",
            "\n",
            "\n",
            "Review: jump master training continues at field \n",
            "Original summary: start jump master training continues end \n",
            "Predicted summary:  start and have signed agreement with end\n",
            "\n",
            "\n",
            "Review: ap technology has launched tri level authentication and verification solution called authentication \n",
            "Original summary: start ap technology has launched tri level solution end \n",
            "Predicted summary:  start has launched its first website end\n",
            "\n",
            "\n",
            "Review: in 7 0 ruling the high court upheld the death sentence of 42 year old donald for the murder of the rev ted turner 56 who was abducted in september 1999 from his spanish fort home \n",
            "Original summary: start the high court upheld the death sentence end \n",
            "Predicted summary:  start the president of the us senate passed away end\n",
            "\n",
            "\n",
            "Review: atlanta shredding company green held free shredding event on saturday november at the subdivision in ga providing free shredding services to the residents of the subdivision \n",
            "Original summary: start atlanta company green held free event at the end \n",
            "Predicted summary:  start today announced its first quarter results end\n",
            "\n",
            "\n",
            "Review: the sioux falls school board has suspended the distribution of and fliers from non profit organizations until at least nov 10 \n",
            "Original summary: start the school board has suspended the distribution of from non profit organizations end \n",
            "Predicted summary:  start the us government has approved the first time to the us end\n",
            "\n",
            "\n",
            "Review: a 21 year old former watertown man was sentenced in dodge county circuit court to 25 years in prison for sexual assault of 6 year old child \n",
            "Original summary: start a man was sentenced for sexual assault of child end \n",
            "Predicted summary:  start a man was arrested on charges of child end\n",
            "\n",
            "\n",
            "Review: his excellency sultan bin saeed al mansouri minister of economy said the uae economy has proven its strength in the times of crisis and prosperity \n",
            "Original summary: start the uae economy has its strength in the times of crisis and end \n",
            "Predicted summary:  start the us has launched its first anniversary end\n",
            "\n",
            "\n",
            "Review: japanese automaker nissan is recalling more than 600 000 vehicles to fix potential problems on the lower steering column joint and shaft and the positive battery cable terminal \n",
            "Original summary: start nissan is recalling more than 600 000 vehicles end \n",
            "Predicted summary:  start is to be end\n",
            "\n",
            "\n",
            "Review: a team of scientists have discovered an exotic quantum state of matter which could lead to advances in new kinds of fast quantum or computing devices of potential use in future electronic technologies \n",
            "Original summary: start a team of scientists have discovered an quantum state of matter end \n",
            "Predicted summary:  start a fire destroyed the home end\n",
            "\n",
            "\n",
            "Review: nick had 18 points and seven rebounds leading no 18 florida to 64 50 victory over southern utah on thursday night despite one of the worst 3 point shooting performances in team history \n",
            "Original summary: start nick had leading florida to victory end \n",
            "Predicted summary:  start won the world cup end\n",
            "\n",
            "\n",
            "Review: minimum temperature fell sharply by about three degrees celsius in most parts of punjab and haryana today as the mercury slipped below normal in the region aggravating cold conditions in the plains \n",
            "Original summary: start minimum temperature fell in parts of punjab and haryana end \n",
            "Predicted summary:  start firefighters killed in crash end\n",
            "\n",
            "\n",
            "Review: army commander has been promoted to the rank of general by president mahinda rajapaksa the sri lanka army media unit said \n",
            "Original summary: start has been promoted to the rank of general end \n",
            "Predicted summary:  start a man has been charged with assault end\n",
            "\n",
            "\n",
            "Review: legendary vocalist pandit joshi who generations of with his of classical music passed away at city hospital on monday after prolonged illness \n",
            "Original summary: start passed away end \n",
            "Predicted summary:  start john mccain won the first time in the end\n",
            "\n",
            "\n",
            "Review: the ftse fell 53 1 points or 0 9 to as vedanta resources led the losers \n",
            "Original summary: start the ftse fell as resources led the end \n",
            "Predicted summary:  start the sensex rose end\n",
            "\n",
            "\n",
            "Review: a newsday reporter and photographer were honored by the club of new york on thursday night at its annual dinner at the down town association in manhattan \n",
            "Original summary: start a reporter and photographer were honored end \n",
            "Predicted summary:  start a couple have been charged with murder end\n",
            "\n",
            "\n",
            "Review: the atlanta braves announced today that former pitcher john smoltz will be inducted into the braves hall of fame on friday june 8 \n",
            "Original summary: start john smoltz will be inducted into the braves hall of fame end \n",
            "Predicted summary:  start the will be playing end\n",
            "\n",
            "\n",
            "Review: a jasper man was shot to death thursday night in an apparent dispute over debt according to reports from the hamilton county sheriff office \n",
            "Original summary: start a man was shot to death end \n",
            "Predicted summary:  start a man was arrested on charges of child end\n",
            "\n",
            "\n",
            "Review: democrat congressman bobby rush is told off for wearing on house floor to protest over the trayvon martin shooting \n",
            "Original summary: start bobby rush is told off for wearing to protest over the trayvon martin shooting end \n",
            "Predicted summary:  start is set to play in the end\n",
            "\n",
            "\n",
            "Review: st francis parish school in bakersfield beat out 14 other schools in the academic at san joaquin memorial high school in fresno last weekend \n",
            "Original summary: start st francis parish school beat out 14 other schools in the academic end \n",
            "Predicted summary:  start and many in the world cup end\n",
            "\n",
            "\n",
            "Review: a new hardware store has opened on detroit road in just few doors down from the recently closed hardware store that was community staple for more than 100 years \n",
            "Original summary: start a hardware store has opened in end \n",
            "Predicted summary:  start a has been jailed for the end\n",
            "\n",
            "\n",
            "Review: a postal service worker was arrested friday on racketeering charge and 21 counts of theft after she lent united states postal service credit cards to friends and family members and accumulated more than 122 in fraudulent charges according to county records \n",
            "Original summary: start a postal service worker was arrested end \n",
            "Predicted summary:  start a man was killed in crash end\n",
            "\n",
            "\n",
            "Review: india went down 1 3 to motivated new zealand side in their second group match at the london olympics 2012 \n",
            "Original summary: start india went down to new zealand side end \n",
            "Predicted summary:  start india launched new zealand end\n",
            "\n",
            "\n",
            "Review: a ship captain has been cleared of causing the deaths of three sailors who in an oxygen depleted on his vessel \n",
            "Original summary: start a ship captain has been cleared of causing the deaths of three sailors end \n",
            "Predicted summary:  start a man has been charged with murder end\n",
            "\n",
            "\n",
            "Review: a bossier city man was arrested over the weekend as an army police there say \n",
            "Original summary: start a city man was arrested as an army end \n",
            "Predicted summary:  start a man was arrested on charges of child end\n",
            "\n",
            "\n",
            "Review: justin timberlake has been challenged to dance off by corporal kelsey de his date for the us marine corps ball tomorrow \n",
            "Original summary: start justin timberlake has been challenged to dance end \n",
            "Predicted summary:  start david has been named the cast of the world cup end\n",
            "\n",
            "\n",
            "Review: ap 07 23 10 07 27 pm edt beverly hills calif woman has pleaded not guilty in the fatal beverly hills stabbing of her former boyfriend who was the son of movie producer \n",
            "Original summary: start ap beverly hills woman has pleaded not guilty in the stabbing end \n",
            "Predicted summary:  start has been named the best player of the world cup end\n",
            "\n",
            "\n",
            "Review: patrick swayze is sharing his great news with fans that he is in fact responding well to his cancer treatment \n",
            "Original summary: start patrick swayze is in fact responding well end \n",
            "Predicted summary:  start is set to return to the end\n",
            "\n",
            "\n",
            "Review: three bomb blasts hit northern nigerian cities of and on wednesday but no details of casualties are immediately available the military and residents said \n",
            "Original summary: start three bomb blasts hit northern nigerian cities end \n",
            "Predicted summary:  start three people were killed in an accident end\n",
            "\n",
            "\n",
            "Review: south africa central bank unexpectedly cut its repo rate by 50 basis points to 6 5 percent on thursday to help accelerate recovery from last year recession and as inflation slows \n",
            "Original summary: start south africa central bank cut its rate to 6 5 percent end \n",
            "Predicted summary:  start india and india agreed to buy the us market end\n",
            "\n",
            "\n",
            "Review: tim howard believes everton have a lot to aim for this season with the club in the fifth round of the fa cup and still in with chance of top four finish in the premier league \n",
            "Original summary: start everton have lot to aim for this season end \n",
            "Predicted summary:  start david beckham and the us have signed an agreement end\n",
            "\n",
            "\n",
            "Review: independent mp andrew says he supports the move for the federal government to implement carbon tax \n",
            "Original summary: start andrew supports the move to implement carbon tax end \n",
            "Predicted summary:  start the us and the us economy may be held end\n",
            "\n",
            "\n",
            "Review: former south africa coach jake white will spend week working with english premiership club saracens ahead of their match against worcester on november 30 \n",
            "Original summary: start jake white will spend working with club end \n",
            "Predicted summary:  start will be playing at the end of the season end\n",
            "\n",
            "\n",
            "Review: president barack obama plans to nominate white house lawyer donald as solicitor general filling vacancy left by elena when she became supreme court justice last year the wall street journal reported monday \n",
            "Original summary: start barack obama plans to nominate white house lawyer donald as general end \n",
            "Predicted summary:  start barack obama won the first round of the first time end\n",
            "\n",
            "\n",
            "Review: joe mcdonald two chinese officials have been jailed for leaking economic data to securities brokerages and four people who work in the financial industry are being investigated state prosecutor said monday \n",
            "Original summary: start two chinese officials have been jailed for leaking economic data end \n",
            "Predicted summary:  start a man died after being hit by car end\n",
            "\n",
            "\n",
            "Review: former england defender gary neville has been appointed to the england coaching staff on four year contract \n",
            "Original summary: start gary has been appointed to the england coaching staff end \n",
            "Predicted summary:  start david has been named the first time of the world cup end\n",
            "\n",
            "\n",
            "Review: consumer demand for wide plank flooring will increase in 2012 with growing number of homeowners and interior design professionals the look of wide natural wood flooring over narrow of traditional believe designers at inc \n",
            "Original summary: start demand for wide will increase in 2012 end \n",
            "Predicted summary:  start will be closed end\n",
            "\n",
            "\n",
            "Review: eminem was rushed to the hospital over the holidays for serious heart condition and severe pneumonia \n",
            "Original summary: start eminem was rushed to the hospital over the holidays end \n",
            "Predicted summary:  start was arrested end\n",
            "\n",
            "\n",
            "Review: prime minister raja pervez ashraf on monday said the government had been making efforts to resolve the energy crisis and number of projects especially in the hydro sector were in progress adding that the power shortage should not be used for political \n",
            "Original summary: start the power shortage should not be used for political end \n",
            "Predicted summary:  start the government will be to the world end\n",
            "\n",
            "\n",
            "Review: an 800 year old pre burial ground full of human remains has been unearthed in costa rica \n",
            "Original summary: start an pre ground has been end \n",
            "Predicted summary:  start an man has been charged with assault end\n",
            "\n",
            "\n",
            "Review: mar 22 macedonia is holding sunday its presidential and municipal elections whose development is in the effort of this former republic to enter the european union \n",
            "Original summary: start macedonia is holding its presidential elections end \n",
            "Predicted summary:  start is to be end\n",
            "\n",
            "\n",
            "Review: coach bob said after monday practice that he expects cornerback fleming and center ben to return to the field saturday against texas m \n",
            "Original summary: start bob expects and ben to return end \n",
            "Predicted summary:  start won the first time end\n",
            "\n",
            "\n",
            "Review: oil prices eased in asian trade on wednesday ahead of key report on us energy stockpiles dealers said \n",
            "Original summary: start oil prices eased in asian trade end \n",
            "Predicted summary:  start oil prices fell below barrel end\n",
            "\n",
            "\n"
          ]
        }
      ]
    },
    {
      "cell_type": "code",
      "source": [
        "# serialize model to JSON\n",
        "model_json = model.to_json()\n",
        "with open(\"summary123.json\", \"w\") as json_file:\n",
        "    json_file.write(model_json)\n",
        "# serialize weights to HDF5\n",
        "model.save_weights(\"sumarys123.h5\")\n",
        "print(\"Saved model 25 to disk\")"
      ],
      "metadata": {
        "colab": {
          "base_uri": "https://localhost:8080/"
        },
        "id": "i8cu1xEPE27W",
        "outputId": "acc1c841-9c05-4366-b5ee-8de7e20c614c"
      },
      "execution_count": null,
      "outputs": [
        {
          "output_type": "stream",
          "name": "stdout",
          "text": [
            "Saved model 25 to disk\n"
          ]
        }
      ]
    },
    {
      "cell_type": "code",
      "source": [
        "!pip install rouge_score"
      ],
      "metadata": {
        "colab": {
          "base_uri": "https://localhost:8080/"
        },
        "id": "2JjGDg9QKblf",
        "outputId": "7b378a64-825f-4a53-bd94-963c7315d030"
      },
      "execution_count": null,
      "outputs": [
        {
          "output_type": "stream",
          "name": "stdout",
          "text": [
            "Collecting rouge_score\n",
            "  Downloading rouge_score-0.0.4-py2.py3-none-any.whl (22 kB)\n",
            "Requirement already satisfied: six>=1.14.0 in /usr/local/lib/python3.7/dist-packages (from rouge_score) (1.15.0)\n",
            "Requirement already satisfied: nltk in /usr/local/lib/python3.7/dist-packages (from rouge_score) (3.2.5)\n",
            "Requirement already satisfied: absl-py in /usr/local/lib/python3.7/dist-packages (from rouge_score) (1.0.0)\n",
            "Requirement already satisfied: numpy in /usr/local/lib/python3.7/dist-packages (from rouge_score) (1.21.5)\n",
            "Installing collected packages: rouge-score\n",
            "Successfully installed rouge-score-0.0.4\n"
          ]
        }
      ]
    },
    {
      "cell_type": "code",
      "source": [
        "from nltk.translate.bleu_score import sentence_bleu"
      ],
      "metadata": {
        "id": "x1yyl5R9K2Bh"
      },
      "execution_count": null,
      "outputs": []
    },
    {
      "cell_type": "code",
      "source": [
        "goldstandard = []\n",
        "summ = []\n",
        "\n",
        "for i in range(0, 100):\n",
        "    goldstandard.append(seq2summary(y_tr[i]))\n",
        "\n",
        "for i in range(0, 100):\n",
        "    summ.append(decode_sequence(x_tr[i].reshape(1, max_text_len)))"
      ],
      "metadata": {
        "id": "UYI4CWmbKnmM"
      },
      "execution_count": null,
      "outputs": []
    },
    {
      "cell_type": "code",
      "source": [
        "GOLD = []\n",
        "for i in goldstandard:\n",
        "    GOLD.append(i.split())\n",
        "\n",
        "SUMM = []\n",
        "for i in summ:\n",
        "    SUMM.append(i.split())"
      ],
      "metadata": {
        "id": "DNQFJS7kNXHO"
      },
      "execution_count": null,
      "outputs": []
    },
    {
      "cell_type": "code",
      "source": [
        "import nltk \n",
        "nltk.translate.bleu_score.corpus_bleu(GOLD, SUMM)"
      ],
      "metadata": {
        "colab": {
          "base_uri": "https://localhost:8080/"
        },
        "id": "UiIZdmxVNdD1",
        "outputId": "0654a8ef-0f98-4272-a7cd-e230039ddb92"
      },
      "execution_count": null,
      "outputs": [
        {
          "output_type": "execute_result",
          "data": {
            "text/plain": [
              "0.3943493429230277"
            ]
          },
          "metadata": {},
          "execution_count": 57
        }
      ]
    },
    {
      "cell_type": "code",
      "source": [
        "pip install rouge"
      ],
      "metadata": {
        "colab": {
          "base_uri": "https://localhost:8080/"
        },
        "id": "RDhxe01-NfwG",
        "outputId": "c3f8cded-8a42-4885-ca9c-dc37a504e9c2"
      },
      "execution_count": null,
      "outputs": [
        {
          "output_type": "stream",
          "name": "stdout",
          "text": [
            "Collecting rouge\n",
            "  Downloading rouge-1.0.1-py3-none-any.whl (13 kB)\n",
            "Requirement already satisfied: six in /usr/local/lib/python3.7/dist-packages (from rouge) (1.15.0)\n",
            "Installing collected packages: rouge\n",
            "Successfully installed rouge-1.0.1\n"
          ]
        }
      ]
    },
    {
      "cell_type": "code",
      "source": [
        "from rouge import Rouge \n",
        "rouge = Rouge()\n",
        "for i, j in zip(goldstandard, summ):\n",
        "    print(\"Original summary:\",i)\n",
        "    print(\"Predicted summary:\",j)\n",
        "    scores = rouge.get_scores(i, j)\n",
        "    print(scores)\n",
        "    print('s\\n')"
      ],
      "metadata": {
        "colab": {
          "base_uri": "https://localhost:8080/"
        },
        "id": "5dwRbuOfNkYt",
        "outputId": "4e12eb07-32d0-4163-cac4-b8f1db8d794f"
      },
      "execution_count": null,
      "outputs": [
        {
          "output_type": "stream",
          "name": "stdout",
          "text": [
            "Original summary: start the obama administration lifted its drilling ban end \n",
            "Predicted summary:  start the us government approved the first time to the us end\n",
            "[{'rouge-1': {'r': 0.3333333333333333, 'p': 0.3333333333333333, 'f': 0.3333333283333334}, 'rouge-2': {'r': 0.1, 'p': 0.125, 'f': 0.11111110617283973}, 'rouge-l': {'r': 0.3333333333333333, 'p': 0.3333333333333333, 'f': 0.3333333283333334}}]\n",
            "s\n",
            "\n",
            "Original summary: start minimum monthly wage in will be raised to 180 starting january 2009 end \n",
            "Predicted summary:  start will be closed end\n",
            "[{'rouge-1': {'r': 0.8, 'p': 0.2857142857142857, 'f': 0.421052627700831}, 'rouge-2': {'r': 0.25, 'p': 0.07692307692307693, 'f': 0.11764705522491362}, 'rouge-l': {'r': 0.8, 'p': 0.2857142857142857, 'f': 0.421052627700831}}]\n",
            "s\n",
            "\n",
            "Original summary: start an spent night in the cells found end \n",
            "Predicted summary:  start an man pleaded guilty to charges end\n",
            "[{'rouge-1': {'r': 0.375, 'p': 0.3333333333333333, 'f': 0.35294117148788934}, 'rouge-2': {'r': 0.14285714285714285, 'p': 0.125, 'f': 0.13333332835555575}, 'rouge-l': {'r': 0.375, 'p': 0.3333333333333333, 'f': 0.35294117148788934}}]\n",
            "s\n",
            "\n",
            "Original summary: start plans to raise more than in its initial offering end \n",
            "Predicted summary:  start the has been awarded the first time of the end\n",
            "[{'rouge-1': {'r': 0.2222222222222222, 'p': 0.18181818181818182, 'f': 0.1999999950500001}, 'rouge-2': {'r': 0.0, 'p': 0.0, 'f': 0.0}, 'rouge-l': {'r': 0.2222222222222222, 'p': 0.18181818181818182, 'f': 0.1999999950500001}}]\n",
            "s\n",
            "\n",
            "Original summary: start henry says the current challenges will persist for number of months but he said the economy will rebound end \n",
            "Predicted summary:  start the will be end\n",
            "[{'rouge-1': {'r': 0.8, 'p': 0.2222222222222222, 'f': 0.34782608355387534}, 'rouge-2': {'r': 0.0, 'p': 0.0, 'f': 0.0}, 'rouge-l': {'r': 0.8, 'p': 0.2222222222222222, 'f': 0.34782608355387534}}]\n",
            "s\n",
            "\n",
            "Original summary: start an illegal worker was found at an pub end \n",
            "Predicted summary:  start an man was arrested on charges of child end\n",
            "[{'rouge-1': {'r': 0.4, 'p': 0.4444444444444444, 'f': 0.42105262659279785}, 'rouge-2': {'r': 0.1111111111111111, 'p': 0.1111111111111111, 'f': 0.11111110611111134}, 'rouge-l': {'r': 0.4, 'p': 0.4444444444444444, 'f': 0.42105262659279785}}]\n",
            "s\n",
            "\n",
            "Original summary: start the australian share market closed firmer end \n",
            "Predicted summary:  start the us dollar fell against the dollar end\n",
            "[{'rouge-1': {'r': 0.42857142857142855, 'p': 0.375, 'f': 0.3999999950222222}, 'rouge-2': {'r': 0.125, 'p': 0.14285714285714285, 'f': 0.13333332835555575}, 'rouge-l': {'r': 0.42857142857142855, 'p': 0.375, 'f': 0.3999999950222222}}]\n",
            "s\n",
            "\n",
            "Original summary: start panda express restaurant is giving away free thai chicken end \n",
            "Predicted summary:  start is set to launch its first store in the end of the end\n",
            "[{'rouge-1': {'r': 0.25, 'p': 0.2727272727272727, 'f': 0.26086956022684316}, 'rouge-2': {'r': 0.0, 'p': 0.0, 'f': 0.0}, 'rouge-l': {'r': 0.25, 'p': 0.2727272727272727, 'f': 0.26086956022684316}}]\n",
            "s\n",
            "\n",
            "Original summary: start britain must remain open for business end \n",
            "Predicted summary:  start a fire destroyed two home end\n",
            "[{'rouge-1': {'r': 0.2857142857142857, 'p': 0.25, 'f': 0.266666661688889}, 'rouge-2': {'r': 0.0, 'p': 0.0, 'f': 0.0}, 'rouge-l': {'r': 0.2857142857142857, 'p': 0.25, 'f': 0.266666661688889}}]\n",
            "s\n",
            "\n",
            "Original summary: start singapore airlines returned to profit end \n",
            "Predicted summary:  start plans to sell its stake in the us end\n",
            "[{'rouge-1': {'r': 0.3, 'p': 0.42857142857142855, 'f': 0.3529411716262976}, 'rouge-2': {'r': 0.0, 'p': 0.0, 'f': 0.0}, 'rouge-l': {'r': 0.3, 'p': 0.42857142857142855, 'f': 0.3529411716262976}}]\n",
            "s\n",
            "\n",
            "Original summary: start the military estimates air force one costs per hour end \n",
            "Predicted summary:  start the us government approved the first time to the us end\n",
            "[{'rouge-1': {'r': 0.3333333333333333, 'p': 0.2727272727272727, 'f': 0.2999999950500001}, 'rouge-2': {'r': 0.1, 'p': 0.1, 'f': 0.09999999500000027}, 'rouge-l': {'r': 0.3333333333333333, 'p': 0.2727272727272727, 'f': 0.2999999950500001}}]\n",
            "s\n",
            "\n",
            "Original summary: start jihad jane online pleaded not guilty end \n",
            "Predicted summary:  start the former president of pop died end\n",
            "[{'rouge-1': {'r': 0.25, 'p': 0.25, 'f': 0.24999999500000009}, 'rouge-2': {'r': 0.0, 'p': 0.0, 'f': 0.0}, 'rouge-l': {'r': 0.25, 'p': 0.25, 'f': 0.24999999500000009}}]\n",
            "s\n",
            "\n",
            "Original summary: start japanese land prices fell in june end \n",
            "Predicted summary:  start stocks rose end\n",
            "[{'rouge-1': {'r': 0.5, 'p': 0.25, 'f': 0.33333332888888895}, 'rouge-2': {'r': 0.0, 'p': 0.0, 'f': 0.0}, 'rouge-l': {'r': 0.5, 'p': 0.25, 'f': 0.33333332888888895}}]\n",
            "s\n",
            "\n",
            "Original summary: start uk says its will offer hybrid advice model end \n",
            "Predicted summary:  start will be closed its doors end\n",
            "[{'rouge-1': {'r': 0.5714285714285714, 'p': 0.4, 'f': 0.470588230449827}, 'rouge-2': {'r': 0.0, 'p': 0.0, 'f': 0.0}, 'rouge-l': {'r': 0.42857142857142855, 'p': 0.3, 'f': 0.3529411716262976}}]\n",
            "s\n",
            "\n",
            "Original summary: start chris has served four days in jail end \n",
            "Predicted summary:  start jennifer aniston has been arrested end\n",
            "[{'rouge-1': {'r': 0.42857142857142855, 'p': 0.3333333333333333, 'f': 0.37499999507812504}, 'rouge-2': {'r': 0.0, 'p': 0.0, 'f': 0.0}, 'rouge-l': {'r': 0.42857142857142855, 'p': 0.3333333333333333, 'f': 0.37499999507812504}}]\n",
            "s\n",
            "\n",
            "Original summary: start a campaign to vote the climate is using end \n",
            "Predicted summary:  start a man is facing charges after he was stabbed end\n",
            "[{'rouge-1': {'r': 0.36363636363636365, 'p': 0.4, 'f': 0.3809523759637189}, 'rouge-2': {'r': 0.1, 'p': 0.1111111111111111, 'f': 0.1052631529085875}, 'rouge-l': {'r': 0.36363636363636365, 'p': 0.4, 'f': 0.3809523759637189}}]\n",
            "s\n",
            "\n",
            "Original summary: start an egyptian commodities buyer bought 000 tons and 25 000 tons of soybean oil at tender oil was bought end \n",
            "Predicted summary:  start the us economy may be end\n",
            "[{'rouge-1': {'r': 0.2857142857142857, 'p': 0.11764705882352941, 'f': 0.16666666253472232}, 'rouge-2': {'r': 0.0, 'p': 0.0, 'f': 0.0}, 'rouge-l': {'r': 0.2857142857142857, 'p': 0.11764705882352941, 'f': 0.16666666253472232}}]\n",
            "s\n",
            "\n",
            "Original summary: start will cut production on the end \n",
            "Predicted summary:  start will be the of the end\n",
            "[{'rouge-1': {'r': 0.6666666666666666, 'p': 0.5714285714285714, 'f': 0.6153846104142012}, 'rouge-2': {'r': 0.3333333333333333, 'p': 0.3333333333333333, 'f': 0.3333333283333334}, 'rouge-l': {'r': 0.6666666666666666, 'p': 0.5714285714285714, 'f': 0.6153846104142012}}]\n",
            "s\n",
            "\n",
            "Original summary: start nick has signed multi year extension with the oklahoma city thunder end \n",
            "Predicted summary:  start has been named the first time of the world cup end\n",
            "[{'rouge-1': {'r': 0.36363636363636365, 'p': 0.3076923076923077, 'f': 0.3333333283680556}, 'rouge-2': {'r': 0.0, 'p': 0.0, 'f': 0.0}, 'rouge-l': {'r': 0.36363636363636365, 'p': 0.3076923076923077, 'f': 0.3333333283680556}}]\n",
            "s\n",
            "\n",
            "Original summary: start rajasthan royals thrashed kings xi punjab end \n",
            "Predicted summary:  start won the first time end\n",
            "[{'rouge-1': {'r': 0.3333333333333333, 'p': 0.25, 'f': 0.2857142808163266}, 'rouge-2': {'r': 0.0, 'p': 0.0, 'f': 0.0}, 'rouge-l': {'r': 0.3333333333333333, 'p': 0.25, 'f': 0.2857142808163266}}]\n",
            "s\n",
            "\n",
            "Original summary: start the kentucky women tennis squad continues fall action in nashville end \n",
            "Predicted summary:  start the new york times won the first time end\n",
            "[{'rouge-1': {'r': 0.3333333333333333, 'p': 0.25, 'f': 0.2857142808163266}, 'rouge-2': {'r': 0.1111111111111111, 'p': 0.09090909090909091, 'f': 0.09999999505000023}, 'rouge-l': {'r': 0.3333333333333333, 'p': 0.25, 'f': 0.2857142808163266}}]\n",
            "s\n",
            "\n",
            "Original summary: start ivan held another round of talks with representatives of doctors end \n",
            "Predicted summary:  start the us president arrived in the end\n",
            "[{'rouge-1': {'r': 0.2857142857142857, 'p': 0.18181818181818182, 'f': 0.2222222174691359}, 'rouge-2': {'r': 0.0, 'p': 0.0, 'f': 0.0}, 'rouge-l': {'r': 0.2857142857142857, 'p': 0.18181818181818182, 'f': 0.2222222174691359}}]\n",
            "s\n",
            "\n",
            "Original summary: start marshall was charged with assault end \n",
            "Predicted summary:  start was arrested end\n",
            "[{'rouge-1': {'r': 0.75, 'p': 0.42857142857142855, 'f': 0.5454545408264463}, 'rouge-2': {'r': 0.0, 'p': 0.0, 'f': 0.0}, 'rouge-l': {'r': 0.75, 'p': 0.42857142857142855, 'f': 0.5454545408264463}}]\n",
            "s\n",
            "\n",
            "Original summary: start russian warships will continue in the world ocean end \n",
            "Predicted summary:  start will be closed its doors end\n",
            "[{'rouge-1': {'r': 0.42857142857142855, 'p': 0.3, 'f': 0.3529411716262976}, 'rouge-2': {'r': 0.0, 'p': 0.0, 'f': 0.0}, 'rouge-l': {'r': 0.42857142857142855, 'p': 0.3, 'f': 0.3529411716262976}}]\n",
            "s\n",
            "\n",
            "Original summary: start the anc lodged complaint with the end \n",
            "Predicted summary:  start the city of the state of the state of the state of the new york times was arrested end\n",
            "[{'rouge-1': {'r': 0.2727272727272727, 'p': 0.42857142857142855, 'f': 0.3333333285802469}, 'rouge-2': {'r': 0.08333333333333333, 'p': 0.14285714285714285, 'f': 0.10526315324099744}, 'rouge-l': {'r': 0.2727272727272727, 'p': 0.42857142857142855, 'f': 0.3333333285802469}}]\n",
            "s\n",
            "\n",
            "Original summary: start newport was named the most expensive summer end \n",
            "Predicted summary:  start was the first time to the end\n",
            "[{'rouge-1': {'r': 0.5714285714285714, 'p': 0.4444444444444444, 'f': 0.4999999950781251}, 'rouge-2': {'r': 0.0, 'p': 0.0, 'f': 0.0}, 'rouge-l': {'r': 0.5714285714285714, 'p': 0.4444444444444444, 'f': 0.4999999950781251}}]\n",
            "s\n",
            "\n",
            "Original summary: start a father attempted to pick his daughter end \n",
            "Predicted summary:  start a woman was arrested on charges of child end\n",
            "[{'rouge-1': {'r': 0.3, 'p': 0.3333333333333333, 'f': 0.31578946869806096}, 'rouge-2': {'r': 0.1111111111111111, 'p': 0.125, 'f': 0.11764705384083066}, 'rouge-l': {'r': 0.3, 'p': 0.3333333333333333, 'f': 0.31578946869806096}}]\n",
            "s\n",
            "\n",
            "Original summary: start inc continues to consolidate its operations end \n",
            "Predicted summary:  start inc announced the launch of its first quarter end\n",
            "[{'rouge-1': {'r': 0.4, 'p': 0.5, 'f': 0.4444444395061729}, 'rouge-2': {'r': 0.1111111111111111, 'p': 0.14285714285714285, 'f': 0.12499999507812519}, 'rouge-l': {'r': 0.4, 'p': 0.5, 'f': 0.4444444395061729}}]\n",
            "s\n",
            "\n",
            "Original summary: start liquidity deficit crossed rs lakh crore end \n",
            "Predicted summary:  start the us economy may be closed end\n",
            "[{'rouge-1': {'r': 0.25, 'p': 0.25, 'f': 0.24999999500000009}, 'rouge-2': {'r': 0.0, 'p': 0.0, 'f': 0.0}, 'rouge-l': {'r': 0.25, 'p': 0.25, 'f': 0.24999999500000009}}]\n",
            "s\n",
            "\n",
            "Original summary: start barack obama appeared tuesday end \n",
            "Predicted summary:  start barack obama said he would not seek re election end\n",
            "[{'rouge-1': {'r': 0.36363636363636365, 'p': 0.6666666666666666, 'f': 0.4705882307266437}, 'rouge-2': {'r': 0.2, 'p': 0.4, 'f': 0.2666666622222223}, 'rouge-l': {'r': 0.36363636363636365, 'p': 0.6666666666666666, 'f': 0.4705882307266437}}]\n",
            "s\n",
            "\n",
            "Original summary: start today is pleased to announce the release of bit vs 16 bit 1 0 for ios end \n",
            "Predicted summary:  start is set to play in the end\n",
            "[{'rouge-1': {'r': 0.625, 'p': 0.29411764705882354, 'f': 0.39999999564800004}, 'rouge-2': {'r': 0.0, 'p': 0.0, 'f': 0.0}, 'rouge-l': {'r': 0.625, 'p': 0.29411764705882354, 'f': 0.39999999564800004}}]\n",
            "s\n",
            "\n",
            "Original summary: start photo steve says he won be paying million buyout to new mexico end \n",
            "Predicted summary:  start he will be playing in the end\n",
            "[{'rouge-1': {'r': 0.5, 'p': 0.2857142857142857, 'f': 0.36363635900826446}, 'rouge-2': {'r': 0.0, 'p': 0.0, 'f': 0.0}, 'rouge-l': {'r': 0.5, 'p': 0.2857142857142857, 'f': 0.36363635900826446}}]\n",
            "s\n",
            "\n",
            "Original summary: start facebook has launched privacy page end \n",
            "Predicted summary:  start has launched its new website end\n",
            "[{'rouge-1': {'r': 0.5714285714285714, 'p': 0.5714285714285714, 'f': 0.5714285664285715}, 'rouge-2': {'r': 0.16666666666666666, 'p': 0.16666666666666666, 'f': 0.16666666166666683}, 'rouge-l': {'r': 0.5714285714285714, 'p': 0.5714285714285714, 'f': 0.5714285664285715}}]\n",
            "s\n",
            "\n",
            "Original summary: start a sri lankan man has died while trying to set record for the longest time spent buried alive end \n",
            "Predicted summary:  start a man has been charged with murder end\n",
            "[{'rouge-1': {'r': 0.5555555555555556, 'p': 0.25, 'f': 0.34482758192627827}, 'rouge-2': {'r': 0.25, 'p': 0.10526315789473684, 'f': 0.14814814397805223}, 'rouge-l': {'r': 0.5555555555555556, 'p': 0.25, 'f': 0.34482758192627827}}]\n",
            "s\n",
            "\n",
            "Original summary: start a girl was airlifted after falling off truck end \n",
            "Predicted summary:  start a former teacher was arrested on charges of sexual assault end\n",
            "[{'rouge-1': {'r': 0.3333333333333333, 'p': 0.4, 'f': 0.36363635867768596}, 'rouge-2': {'r': 0.09090909090909091, 'p': 0.1111111111111111, 'f': 0.09999999505000023}, 'rouge-l': {'r': 0.3333333333333333, 'p': 0.4, 'f': 0.36363635867768596}}]\n",
            "s\n",
            "\n",
            "Original summary: start jan brewer accidentally endorsed barack obama end \n",
            "Predicted summary:  start john mccain won the first time end\n",
            "[{'rouge-1': {'r': 0.25, 'p': 0.25, 'f': 0.24999999500000009}, 'rouge-2': {'r': 0.0, 'p': 0.0, 'f': 0.0}, 'rouge-l': {'r': 0.25, 'p': 0.25, 'f': 0.24999999500000009}}]\n",
            "s\n",
            "\n",
            "Original summary: start the psa peugeot group welcomes the billion loan from the french state end \n",
            "Predicted summary:  start the of the new york times announced the launch of the new york end\n",
            "[{'rouge-1': {'r': 0.3333333333333333, 'p': 0.25, 'f': 0.2857142808163266}, 'rouge-2': {'r': 0.09090909090909091, 'p': 0.07692307692307693, 'f': 0.08333332836805586}, 'rouge-l': {'r': 0.3333333333333333, 'p': 0.25, 'f': 0.2857142808163266}}]\n",
            "s\n",
            "\n",
            "Original summary: start walgreens had july sales an increase of 10 7 percent end \n",
            "Predicted summary:  start and india agreed to buy end\n",
            "[{'rouge-1': {'r': 0.2857142857142857, 'p': 0.16666666666666666, 'f': 0.2105263111357342}, 'rouge-2': {'r': 0.0, 'p': 0.0, 'f': 0.0}, 'rouge-l': {'r': 0.2857142857142857, 'p': 0.16666666666666666, 'f': 0.2105263111357342}}]\n",
            "s\n",
            "\n",
            "Original summary: start kuwaiti crude dropped and came to 40 18 end \n",
            "Predicted summary:  start us shares fell in april end\n",
            "[{'rouge-1': {'r': 0.2857142857142857, 'p': 0.2, 'f': 0.23529411280276827}, 'rouge-2': {'r': 0.0, 'p': 0.0, 'f': 0.0}, 'rouge-l': {'r': 0.2857142857142857, 'p': 0.2, 'f': 0.23529411280276827}}]\n",
            "s\n",
            "\n",
            "Original summary: start rick scott has vetoed bill that would have ended permanent end \n",
            "Predicted summary:  start peter has been arrested on suspicion of assault end\n",
            "[{'rouge-1': {'r': 0.3, 'p': 0.25, 'f': 0.27272726776859507}, 'rouge-2': {'r': 0.0, 'p': 0.0, 'f': 0.0}, 'rouge-l': {'r': 0.3, 'p': 0.25, 'f': 0.27272726776859507}}]\n",
            "s\n",
            "\n",
            "Original summary: start a drug was shot dead end \n",
            "Predicted summary:  start a man was arrested on charges of child end\n",
            "[{'rouge-1': {'r': 0.4, 'p': 0.5714285714285714, 'f': 0.470588230449827}, 'rouge-2': {'r': 0.1111111111111111, 'p': 0.16666666666666666, 'f': 0.1333333285333335}, 'rouge-l': {'r': 0.4, 'p': 0.5714285714285714, 'f': 0.470588230449827}}]\n",
            "s\n",
            "\n",
            "Original summary: start michelle obama will visit mexico end \n",
            "Predicted summary:  start barack obama will be the first time to the us end\n",
            "[{'rouge-1': {'r': 0.36363636363636365, 'p': 0.5714285714285714, 'f': 0.44444443969135805}, 'rouge-2': {'r': 0.09090909090909091, 'p': 0.16666666666666666, 'f': 0.11764705425605555}, 'rouge-l': {'r': 0.36363636363636365, 'p': 0.5714285714285714, 'f': 0.44444443969135805}}]\n",
            "s\n",
            "\n",
            "Original summary: start we need to term limits and campaign finance reform end \n",
            "Predicted summary:  start a man was killed in crash end\n",
            "[{'rouge-1': {'r': 0.25, 'p': 0.18181818181818182, 'f': 0.21052631091412755}, 'rouge-2': {'r': 0.0, 'p': 0.0, 'f': 0.0}, 'rouge-l': {'r': 0.25, 'p': 0.18181818181818182, 'f': 0.21052631091412755}}]\n",
            "s\n",
            "\n",
            "Original summary: start a man has been arrested over an attack end \n",
            "Predicted summary:  start a man has been charged with assault end\n",
            "[{'rouge-1': {'r': 0.6666666666666666, 'p': 0.6, 'f': 0.6315789423822715}, 'rouge-2': {'r': 0.5, 'p': 0.4444444444444444, 'f': 0.4705882303114187}, 'rouge-l': {'r': 0.6666666666666666, 'p': 0.6, 'f': 0.6315789423822715}}]\n",
            "s\n",
            "\n",
            "Original summary: start the killers would love to team up with end \n",
            "Predicted summary:  start the chicago cubs signed veteran end\n",
            "[{'rouge-1': {'r': 0.42857142857142855, 'p': 0.3, 'f': 0.3529411716262976}, 'rouge-2': {'r': 0.16666666666666666, 'p': 0.1111111111111111, 'f': 0.1333333285333335}, 'rouge-l': {'r': 0.42857142857142855, 'p': 0.3, 'f': 0.3529411716262976}}]\n",
            "s\n",
            "\n",
            "Original summary: start the opened cape may jazz festival end \n",
            "Predicted summary:  start the us navy and they re signed an emergency end\n",
            "[{'rouge-1': {'r': 0.2727272727272727, 'p': 0.375, 'f': 0.3157894688088643}, 'rouge-2': {'r': 0.1, 'p': 0.14285714285714285, 'f': 0.11764705397923896}, 'rouge-l': {'r': 0.2727272727272727, 'p': 0.375, 'f': 0.3157894688088643}}]\n",
            "s\n",
            "\n",
            "Original summary: start asus tablet has showed in some reviews end \n",
            "Predicted summary:  start has launched its first website end\n",
            "[{'rouge-1': {'r': 0.42857142857142855, 'p': 0.3333333333333333, 'f': 0.37499999507812504}, 'rouge-2': {'r': 0.0, 'p': 0.0, 'f': 0.0}, 'rouge-l': {'r': 0.42857142857142855, 'p': 0.3333333333333333, 'f': 0.37499999507812504}}]\n",
            "s\n",
            "\n",
            "Original summary: start a bc man has pled guilty to body end \n",
            "Predicted summary:  start a man has been charged with murder end\n",
            "[{'rouge-1': {'r': 0.5555555555555556, 'p': 0.5, 'f': 0.5263157844875347}, 'rouge-2': {'r': 0.25, 'p': 0.2222222222222222, 'f': 0.23529411266435996}, 'rouge-l': {'r': 0.5555555555555556, 'p': 0.5, 'f': 0.5263157844875347}}]\n",
            "s\n",
            "\n",
            "Original summary: start the internal revenue service will extend help to more innocent end \n",
            "Predicted summary:  start will be the of the end\n",
            "[{'rouge-1': {'r': 0.6666666666666666, 'p': 0.3333333333333333, 'f': 0.44444444000000005}, 'rouge-2': {'r': 0.0, 'p': 0.0, 'f': 0.0}, 'rouge-l': {'r': 0.5, 'p': 0.25, 'f': 0.33333332888888895}}]\n",
            "s\n",
            "\n",
            "Original summary: start heavy rain has over the olympic torch relay route end \n",
            "Predicted summary:  start has launched its first website end\n",
            "[{'rouge-1': {'r': 0.42857142857142855, 'p': 0.2727272727272727, 'f': 0.3333333285802469}, 'rouge-2': {'r': 0.0, 'p': 0.0, 'f': 0.0}, 'rouge-l': {'r': 0.42857142857142855, 'p': 0.2727272727272727, 'f': 0.3333333285802469}}]\n",
            "s\n",
            "\n",
            "Original summary: start a water line break caused end \n",
            "Predicted summary:  start a fire destroyed an home end\n",
            "[{'rouge-1': {'r': 0.42857142857142855, 'p': 0.42857142857142855, 'f': 0.4285714235714286}, 'rouge-2': {'r': 0.16666666666666666, 'p': 0.16666666666666666, 'f': 0.16666666166666683}, 'rouge-l': {'r': 0.42857142857142855, 'p': 0.42857142857142855, 'f': 0.4285714235714286}}]\n",
            "s\n",
            "\n",
            "Original summary: start is up as an strike continues end \n",
            "Predicted summary:  start is set to launch its first store in the end\n",
            "[{'rouge-1': {'r': 0.2727272727272727, 'p': 0.375, 'f': 0.3157894688088643}, 'rouge-2': {'r': 0.1, 'p': 0.14285714285714285, 'f': 0.11764705397923896}, 'rouge-l': {'r': 0.2727272727272727, 'p': 0.375, 'f': 0.3157894688088643}}]\n",
            "s\n",
            "\n",
            "Original summary: start canadians need better jobs and more of them end \n",
            "Predicted summary:  start and have agreed to sell the us gas rate end\n",
            "[{'rouge-1': {'r': 0.2727272727272727, 'p': 0.3, 'f': 0.2857142807256236}, 'rouge-2': {'r': 0.0, 'p': 0.0, 'f': 0.0}, 'rouge-l': {'r': 0.2727272727272727, 'p': 0.3, 'f': 0.2857142807256236}}]\n",
            "s\n",
            "\n",
            "Original summary: start the party made huge mistake in taking position minister michael said end \n",
            "Predicted summary:  start the new york times today announced the launch of the new york city end\n",
            "[{'rouge-1': {'r': 0.2727272727272727, 'p': 0.23076923076923078, 'f': 0.24999999503472223}, 'rouge-2': {'r': 0.08333333333333333, 'p': 0.08333333333333333, 'f': 0.08333332833333364}, 'rouge-l': {'r': 0.2727272727272727, 'p': 0.23076923076923078, 'f': 0.24999999503472223}}]\n",
            "s\n",
            "\n",
            "Original summary: start area students graduated from carl albert state college end \n",
            "Predicted summary:  start the city of the city of the new york times have been assigned patent end\n",
            "[{'rouge-1': {'r': 0.16666666666666666, 'p': 0.2, 'f': 0.18181817685950424}, 'rouge-2': {'r': 0.0, 'p': 0.0, 'f': 0.0}, 'rouge-l': {'r': 0.16666666666666666, 'p': 0.2, 'f': 0.18181817685950424}}]\n",
            "s\n",
            "\n",
            "Original summary: start murder charges have been dropped against two men end \n",
            "Predicted summary:  start are being urged to help their own end\n",
            "[{'rouge-1': {'r': 0.2222222222222222, 'p': 0.2, 'f': 0.21052631080332423}, 'rouge-2': {'r': 0.0, 'p': 0.0, 'f': 0.0}, 'rouge-l': {'r': 0.2222222222222222, 'p': 0.2, 'f': 0.21052631080332423}}]\n",
            "s\n",
            "\n",
            "Original summary: start legendary tv personality ian has died end \n",
            "Predicted summary:  start has won the first round of the season end\n",
            "[{'rouge-1': {'r': 0.3333333333333333, 'p': 0.375, 'f': 0.35294117148788934}, 'rouge-2': {'r': 0.0, 'p': 0.0, 'f': 0.0}, 'rouge-l': {'r': 0.3333333333333333, 'p': 0.375, 'f': 0.35294117148788934}}]\n",
            "s\n",
            "\n",
            "Original summary: start one playing field vital is being sold off almost every week end \n",
            "Predicted summary:  start what is to be end\n",
            "[{'rouge-1': {'r': 0.5, 'p': 0.23076923076923078, 'f': 0.31578946936288094}, 'rouge-2': {'r': 0.0, 'p': 0.0, 'f': 0.0}, 'rouge-l': {'r': 0.5, 'p': 0.23076923076923078, 'f': 0.31578946936288094}}]\n",
            "s\n",
            "\n",
            "Original summary: start jump master training continues end \n",
            "Predicted summary:  start and have signed agreement with end\n",
            "[{'rouge-1': {'r': 0.2857142857142857, 'p': 0.3333333333333333, 'f': 0.3076923027218935}, 'rouge-2': {'r': 0.0, 'p': 0.0, 'f': 0.0}, 'rouge-l': {'r': 0.2857142857142857, 'p': 0.3333333333333333, 'f': 0.3076923027218935}}]\n",
            "s\n",
            "\n",
            "Original summary: start ap technology has launched tri level solution end \n",
            "Predicted summary:  start has launched its first website end\n",
            "[{'rouge-1': {'r': 0.5714285714285714, 'p': 0.4444444444444444, 'f': 0.4999999950781251}, 'rouge-2': {'r': 0.16666666666666666, 'p': 0.125, 'f': 0.14285713795918387}, 'rouge-l': {'r': 0.5714285714285714, 'p': 0.4444444444444444, 'f': 0.4999999950781251}}]\n",
            "s\n",
            "\n",
            "Original summary: start the high court upheld the death sentence end \n",
            "Predicted summary:  start the president of the us senate passed away end\n",
            "[{'rouge-1': {'r': 0.3333333333333333, 'p': 0.375, 'f': 0.35294117148788934}, 'rouge-2': {'r': 0.1111111111111111, 'p': 0.125, 'f': 0.11764705384083066}, 'rouge-l': {'r': 0.3333333333333333, 'p': 0.375, 'f': 0.35294117148788934}}]\n",
            "s\n",
            "\n",
            "Original summary: start atlanta company green held free event at the end \n",
            "Predicted summary:  start today announced its first quarter results end\n",
            "[{'rouge-1': {'r': 0.25, 'p': 0.2, 'f': 0.22222221728395072}, 'rouge-2': {'r': 0.0, 'p': 0.0, 'f': 0.0}, 'rouge-l': {'r': 0.25, 'p': 0.2, 'f': 0.22222221728395072}}]\n",
            "s\n",
            "\n",
            "Original summary: start the school board has suspended the distribution of from non profit organizations end \n",
            "Predicted summary:  start the us government has approved the first time to the us end\n",
            "[{'rouge-1': {'r': 0.4, 'p': 0.3076923076923077, 'f': 0.34782608204158794}, 'rouge-2': {'r': 0.09090909090909091, 'p': 0.07692307692307693, 'f': 0.08333332836805586}, 'rouge-l': {'r': 0.4, 'p': 0.3076923076923077, 'f': 0.34782608204158794}}]\n",
            "s\n",
            "\n",
            "Original summary: start a man was sentenced for sexual assault of child end \n",
            "Predicted summary:  start a man was arrested on charges of child end\n",
            "[{'rouge-1': {'r': 0.7, 'p': 0.6363636363636364, 'f': 0.6666666616780046}, 'rouge-2': {'r': 0.5555555555555556, 'p': 0.5, 'f': 0.5263157844875347}, 'rouge-l': {'r': 0.7, 'p': 0.6363636363636364, 'f': 0.6666666616780046}}]\n",
            "s\n",
            "\n",
            "Original summary: start the uae economy has its strength in the times of crisis and end \n",
            "Predicted summary:  start the us has launched its first anniversary end\n",
            "[{'rouge-1': {'r': 0.5555555555555556, 'p': 0.38461538461538464, 'f': 0.4545454497107439}, 'rouge-2': {'r': 0.125, 'p': 0.07692307692307693, 'f': 0.0952380905215422}, 'rouge-l': {'r': 0.5555555555555556, 'p': 0.38461538461538464, 'f': 0.4545454497107439}}]\n",
            "s\n",
            "\n",
            "Original summary: start nissan is recalling more than 600 000 vehicles end \n",
            "Predicted summary:  start is to be end\n",
            "[{'rouge-1': {'r': 0.6, 'p': 0.3, 'f': 0.3999999955555556}, 'rouge-2': {'r': 0.0, 'p': 0.0, 'f': 0.0}, 'rouge-l': {'r': 0.6, 'p': 0.3, 'f': 0.3999999955555556}}]\n",
            "s\n",
            "\n",
            "Original summary: start a team of scientists have discovered an quantum state of matter end \n",
            "Predicted summary:  start a fire destroyed the home end\n",
            "[{'rouge-1': {'r': 0.42857142857142855, 'p': 0.25, 'f': 0.31578946903047095}, 'rouge-2': {'r': 0.16666666666666666, 'p': 0.08333333333333333, 'f': 0.11111110666666683}, 'rouge-l': {'r': 0.42857142857142855, 'p': 0.25, 'f': 0.31578946903047095}}]\n",
            "s\n",
            "\n",
            "Original summary: start nick had leading florida to victory end \n",
            "Predicted summary:  start won the world cup end\n",
            "[{'rouge-1': {'r': 0.3333333333333333, 'p': 0.25, 'f': 0.2857142808163266}, 'rouge-2': {'r': 0.0, 'p': 0.0, 'f': 0.0}, 'rouge-l': {'r': 0.3333333333333333, 'p': 0.25, 'f': 0.2857142808163266}}]\n",
            "s\n",
            "\n",
            "Original summary: start minimum temperature fell in parts of punjab and haryana end \n",
            "Predicted summary:  start firefighters killed in crash end\n",
            "[{'rouge-1': {'r': 0.5, 'p': 0.2727272727272727, 'f': 0.3529411719031142}, 'rouge-2': {'r': 0.0, 'p': 0.0, 'f': 0.0}, 'rouge-l': {'r': 0.5, 'p': 0.2727272727272727, 'f': 0.3529411719031142}}]\n",
            "s\n",
            "\n",
            "Original summary: start has been promoted to the rank of general end \n",
            "Predicted summary:  start a man has been charged with assault end\n",
            "[{'rouge-1': {'r': 0.4444444444444444, 'p': 0.4, 'f': 0.42105262659279785}, 'rouge-2': {'r': 0.125, 'p': 0.1111111111111111, 'f': 0.11764705384083066}, 'rouge-l': {'r': 0.4444444444444444, 'p': 0.4, 'f': 0.42105262659279785}}]\n",
            "s\n",
            "\n",
            "Original summary: start passed away end \n",
            "Predicted summary:  start john mccain won the first time in the end\n",
            "[{'rouge-1': {'r': 0.2222222222222222, 'p': 0.5, 'f': 0.3076923034319527}, 'rouge-2': {'r': 0.0, 'p': 0.0, 'f': 0.0}, 'rouge-l': {'r': 0.2222222222222222, 'p': 0.5, 'f': 0.3076923034319527}}]\n",
            "s\n",
            "\n",
            "Original summary: start the ftse fell as resources led the end \n",
            "Predicted summary:  start the sensex rose end\n",
            "[{'rouge-1': {'r': 0.6, 'p': 0.375, 'f': 0.4615384568047337}, 'rouge-2': {'r': 0.25, 'p': 0.125, 'f': 0.16666666222222234}, 'rouge-l': {'r': 0.6, 'p': 0.375, 'f': 0.4615384568047337}}]\n",
            "s\n",
            "\n",
            "Original summary: start a reporter and photographer were honored end \n",
            "Predicted summary:  start a couple have been charged with murder end\n",
            "[{'rouge-1': {'r': 0.3333333333333333, 'p': 0.375, 'f': 0.35294117148788934}, 'rouge-2': {'r': 0.125, 'p': 0.14285714285714285, 'f': 0.13333332835555575}, 'rouge-l': {'r': 0.3333333333333333, 'p': 0.375, 'f': 0.35294117148788934}}]\n",
            "s\n",
            "\n",
            "Original summary: start john smoltz will be inducted into the braves hall of fame end \n",
            "Predicted summary:  start the will be playing end\n",
            "[{'rouge-1': {'r': 0.8333333333333334, 'p': 0.38461538461538464, 'f': 0.5263157851523547}, 'rouge-2': {'r': 0.2, 'p': 0.08333333333333333, 'f': 0.11764705467128042}, 'rouge-l': {'r': 0.6666666666666666, 'p': 0.3076923076923077, 'f': 0.4210526272576177}}]\n",
            "s\n",
            "\n",
            "Original summary: start a man was shot to death end \n",
            "Predicted summary:  start a man was arrested on charges of child end\n",
            "[{'rouge-1': {'r': 0.5, 'p': 0.625, 'f': 0.555555550617284}, 'rouge-2': {'r': 0.3333333333333333, 'p': 0.42857142857142855, 'f': 0.37499999507812504}, 'rouge-l': {'r': 0.5, 'p': 0.625, 'f': 0.555555550617284}}]\n",
            "s\n",
            "\n",
            "Original summary: start bobby rush is told off for wearing to protest over the trayvon martin shooting end \n",
            "Predicted summary:  start is set to play in the end\n",
            "[{'rouge-1': {'r': 0.625, 'p': 0.3125, 'f': 0.41666666222222226}, 'rouge-2': {'r': 0.0, 'p': 0.0, 'f': 0.0}, 'rouge-l': {'r': 0.625, 'p': 0.3125, 'f': 0.41666666222222226}}]\n",
            "s\n",
            "\n",
            "Original summary: start st francis parish school beat out 14 other schools in the academic end \n",
            "Predicted summary:  start and many in the world cup end\n",
            "[{'rouge-1': {'r': 0.5, 'p': 0.2857142857142857, 'f': 0.36363635900826446}, 'rouge-2': {'r': 0.14285714285714285, 'p': 0.07692307692307693, 'f': 0.09999999545000023}, 'rouge-l': {'r': 0.5, 'p': 0.2857142857142857, 'f': 0.36363635900826446}}]\n",
            "s\n",
            "\n",
            "Original summary: start a hardware store has opened in end \n",
            "Predicted summary:  start a has been jailed for the end\n",
            "[{'rouge-1': {'r': 0.5, 'p': 0.5, 'f': 0.4999999950000001}, 'rouge-2': {'r': 0.14285714285714285, 'p': 0.14285714285714285, 'f': 0.14285713785714302}, 'rouge-l': {'r': 0.5, 'p': 0.5, 'f': 0.4999999950000001}}]\n",
            "s\n",
            "\n",
            "Original summary: start a postal service worker was arrested end \n",
            "Predicted summary:  start a man was killed in crash end\n",
            "[{'rouge-1': {'r': 0.5, 'p': 0.5, 'f': 0.4999999950000001}, 'rouge-2': {'r': 0.14285714285714285, 'p': 0.14285714285714285, 'f': 0.14285713785714302}, 'rouge-l': {'r': 0.5, 'p': 0.5, 'f': 0.4999999950000001}}]\n",
            "s\n",
            "\n",
            "Original summary: start india went down to new zealand side end \n",
            "Predicted summary:  start india launched new zealand end\n",
            "[{'rouge-1': {'r': 0.8333333333333334, 'p': 0.5555555555555556, 'f': 0.6666666618666668}, 'rouge-2': {'r': 0.4, 'p': 0.25, 'f': 0.3076923029585799}, 'rouge-l': {'r': 0.8333333333333334, 'p': 0.5555555555555556, 'f': 0.6666666618666668}}]\n",
            "s\n",
            "\n",
            "Original summary: start a ship captain has been cleared of causing the deaths of three sailors end \n",
            "Predicted summary:  start a man has been charged with murder end\n",
            "[{'rouge-1': {'r': 0.5555555555555556, 'p': 0.35714285714285715, 'f': 0.4347826039319471}, 'rouge-2': {'r': 0.25, 'p': 0.14285714285714285, 'f': 0.18181817719008275}, 'rouge-l': {'r': 0.5555555555555556, 'p': 0.35714285714285715, 'f': 0.4347826039319471}}]\n",
            "s\n",
            "\n",
            "Original summary: start a city man was arrested as an army end \n",
            "Predicted summary:  start a man was arrested on charges of child end\n",
            "[{'rouge-1': {'r': 0.6, 'p': 0.6, 'f': 0.5999999950000001}, 'rouge-2': {'r': 0.3333333333333333, 'p': 0.3333333333333333, 'f': 0.3333333283333334}, 'rouge-l': {'r': 0.6, 'p': 0.6, 'f': 0.5999999950000001}}]\n",
            "s\n",
            "\n",
            "Original summary: start justin timberlake has been challenged to dance end \n",
            "Predicted summary:  start david has been named the cast of the world cup end\n",
            "[{'rouge-1': {'r': 0.36363636363636365, 'p': 0.4444444444444444, 'f': 0.39999999505}, 'rouge-2': {'r': 0.09090909090909091, 'p': 0.125, 'f': 0.1052631530193908}, 'rouge-l': {'r': 0.36363636363636365, 'p': 0.4444444444444444, 'f': 0.39999999505}}]\n",
            "s\n",
            "\n",
            "Original summary: start ap beverly hills woman has pleaded not guilty in the stabbing end \n",
            "Predicted summary:  start has been named the best player of the world cup end\n",
            "[{'rouge-1': {'r': 0.36363636363636365, 'p': 0.3076923076923077, 'f': 0.3333333283680556}, 'rouge-2': {'r': 0.0, 'p': 0.0, 'f': 0.0}, 'rouge-l': {'r': 0.36363636363636365, 'p': 0.3076923076923077, 'f': 0.3333333283680556}}]\n",
            "s\n",
            "\n",
            "Original summary: start patrick swayze is in fact responding well end \n",
            "Predicted summary:  start is set to return to the end\n",
            "[{'rouge-1': {'r': 0.42857142857142855, 'p': 0.3333333333333333, 'f': 0.37499999507812504}, 'rouge-2': {'r': 0.0, 'p': 0.0, 'f': 0.0}, 'rouge-l': {'r': 0.42857142857142855, 'p': 0.3333333333333333, 'f': 0.37499999507812504}}]\n",
            "s\n",
            "\n",
            "Original summary: start three bomb blasts hit northern nigerian cities end \n",
            "Predicted summary:  start three people were killed in an accident end\n",
            "[{'rouge-1': {'r': 0.3333333333333333, 'p': 0.3333333333333333, 'f': 0.3333333283333334}, 'rouge-2': {'r': 0.125, 'p': 0.125, 'f': 0.1249999950000002}, 'rouge-l': {'r': 0.3333333333333333, 'p': 0.3333333333333333, 'f': 0.3333333283333334}}]\n",
            "s\n",
            "\n",
            "Original summary: start south africa central bank cut its rate to 6 5 percent end \n",
            "Predicted summary:  start india and india agreed to buy the us market end\n",
            "[{'rouge-1': {'r': 0.3, 'p': 0.23076923076923078, 'f': 0.26086956030245756}, 'rouge-2': {'r': 0.0, 'p': 0.0, 'f': 0.0}, 'rouge-l': {'r': 0.3, 'p': 0.23076923076923078, 'f': 0.26086956030245756}}]\n",
            "s\n",
            "\n",
            "Original summary: start everton have lot to aim for this season end \n",
            "Predicted summary:  start david beckham and the us have signed an agreement end\n",
            "[{'rouge-1': {'r': 0.2727272727272727, 'p': 0.3, 'f': 0.2857142807256236}, 'rouge-2': {'r': 0.0, 'p': 0.0, 'f': 0.0}, 'rouge-l': {'r': 0.2727272727272727, 'p': 0.3, 'f': 0.2857142807256236}}]\n",
            "s\n",
            "\n",
            "Original summary: start andrew supports the move to implement carbon tax end \n",
            "Predicted summary:  start the us and the us economy may be held end\n",
            "[{'rouge-1': {'r': 0.3333333333333333, 'p': 0.3, 'f': 0.31578946869806096}, 'rouge-2': {'r': 0.0, 'p': 0.0, 'f': 0.0}, 'rouge-l': {'r': 0.3333333333333333, 'p': 0.3, 'f': 0.31578946869806096}}]\n",
            "s\n",
            "\n",
            "Original summary: start jake white will spend working with club end \n",
            "Predicted summary:  start will be playing at the end of the season end\n",
            "[{'rouge-1': {'r': 0.3333333333333333, 'p': 0.3333333333333333, 'f': 0.3333333283333334}, 'rouge-2': {'r': 0.0, 'p': 0.0, 'f': 0.0}, 'rouge-l': {'r': 0.3333333333333333, 'p': 0.3333333333333333, 'f': 0.3333333283333334}}]\n",
            "s\n",
            "\n",
            "Original summary: start barack obama plans to nominate white house lawyer donald as general end \n",
            "Predicted summary:  start barack obama won the first round of the first time end\n",
            "[{'rouge-1': {'r': 0.4, 'p': 0.3076923076923077, 'f': 0.34782608204158794}, 'rouge-2': {'r': 0.2, 'p': 0.16666666666666666, 'f': 0.18181817685950424}, 'rouge-l': {'r': 0.4, 'p': 0.3076923076923077, 'f': 0.34782608204158794}}]\n",
            "s\n",
            "\n",
            "Original summary: start two chinese officials have been jailed for leaking economic data end \n",
            "Predicted summary:  start a man died after being hit by car end\n",
            "[{'rouge-1': {'r': 0.2, 'p': 0.16666666666666666, 'f': 0.18181817685950424}, 'rouge-2': {'r': 0.0, 'p': 0.0, 'f': 0.0}, 'rouge-l': {'r': 0.2, 'p': 0.16666666666666666, 'f': 0.18181817685950424}}]\n",
            "s\n",
            "\n",
            "Original summary: start gary has been appointed to the england coaching staff end \n",
            "Predicted summary:  start david has been named the first time of the world cup end\n",
            "[{'rouge-1': {'r': 0.4166666666666667, 'p': 0.45454545454545453, 'f': 0.434782603705104}, 'rouge-2': {'r': 0.08333333333333333, 'p': 0.1, 'f': 0.09090908595041348}, 'rouge-l': {'r': 0.4166666666666667, 'p': 0.45454545454545453, 'f': 0.434782603705104}}]\n",
            "s\n",
            "\n",
            "Original summary: start demand for wide will increase in 2012 end \n",
            "Predicted summary:  start will be closed end\n",
            "[{'rouge-1': {'r': 0.6, 'p': 0.3333333333333333, 'f': 0.4285714239795918}, 'rouge-2': {'r': 0.0, 'p': 0.0, 'f': 0.0}, 'rouge-l': {'r': 0.6, 'p': 0.3333333333333333, 'f': 0.4285714239795918}}]\n",
            "s\n",
            "\n",
            "Original summary: start eminem was rushed to the hospital over the holidays end \n",
            "Predicted summary:  start was arrested end\n",
            "[{'rouge-1': {'r': 0.75, 'p': 0.3, 'f': 0.4285714244897959}, 'rouge-2': {'r': 0.0, 'p': 0.0, 'f': 0.0}, 'rouge-l': {'r': 0.75, 'p': 0.3, 'f': 0.4285714244897959}}]\n",
            "s\n",
            "\n",
            "Original summary: start the power shortage should not be used for political end \n",
            "Predicted summary:  start the government will be to the world end\n",
            "[{'rouge-1': {'r': 0.5, 'p': 0.36363636363636365, 'f': 0.42105262670360116}, 'rouge-2': {'r': 0.125, 'p': 0.1, 'f': 0.11111110617283973}, 'rouge-l': {'r': 0.5, 'p': 0.36363636363636365, 'f': 0.42105262670360116}}]\n",
            "s\n",
            "\n",
            "Original summary: start an pre ground has been end \n",
            "Predicted summary:  start an man has been charged with assault end\n",
            "[{'rouge-1': {'r': 0.5555555555555556, 'p': 0.7142857142857143, 'f': 0.6249999950781252}, 'rouge-2': {'r': 0.25, 'p': 0.3333333333333333, 'f': 0.2857142808163266}, 'rouge-l': {'r': 0.5555555555555556, 'p': 0.7142857142857143, 'f': 0.6249999950781252}}]\n",
            "s\n",
            "\n",
            "Original summary: start macedonia is holding its presidential elections end \n",
            "Predicted summary:  start is to be end\n",
            "[{'rouge-1': {'r': 0.6, 'p': 0.375, 'f': 0.4615384568047337}, 'rouge-2': {'r': 0.0, 'p': 0.0, 'f': 0.0}, 'rouge-l': {'r': 0.6, 'p': 0.375, 'f': 0.4615384568047337}}]\n",
            "s\n",
            "\n",
            "Original summary: start bob expects and ben to return end \n",
            "Predicted summary:  start won the first time end\n",
            "[{'rouge-1': {'r': 0.3333333333333333, 'p': 0.25, 'f': 0.2857142808163266}, 'rouge-2': {'r': 0.0, 'p': 0.0, 'f': 0.0}, 'rouge-l': {'r': 0.3333333333333333, 'p': 0.25, 'f': 0.2857142808163266}}]\n",
            "s\n",
            "\n",
            "Original summary: start oil prices eased in asian trade end \n",
            "Predicted summary:  start oil prices fell below barrel end\n",
            "[{'rouge-1': {'r': 0.5714285714285714, 'p': 0.5, 'f': 0.5333333283555556}, 'rouge-2': {'r': 0.3333333333333333, 'p': 0.2857142857142857, 'f': 0.3076923027218935}, 'rouge-l': {'r': 0.5714285714285714, 'p': 0.5, 'f': 0.5333333283555556}}]\n",
            "s\n",
            "\n"
          ]
        }
      ]
    },
    {
      "cell_type": "code",
      "source": [
        "from rouge import Rouge "
      ],
      "metadata": {
        "id": "uDGjwIMdO4LJ"
      },
      "execution_count": null,
      "outputs": []
    },
    {
      "cell_type": "code",
      "source": [
        "hypothesis = \"talk to your friends about your feelings talk to therapist \"\n",
        "reference = \"problem solve ask for support prioritize self care take break engage in therapy help others\""
      ],
      "metadata": {
        "id": "uJIF6RTHO70U"
      },
      "execution_count": null,
      "outputs": []
    },
    {
      "cell_type": "code",
      "source": [
        "rouge = Rouge()\n",
        "scores = rouge.get_scores(hypothesis, reference)\n",
        "print(scores)"
      ],
      "metadata": {
        "colab": {
          "base_uri": "https://localhost:8080/"
        },
        "id": "MRuNgpjPO_RW",
        "outputId": "8fc0b753-a35e-415f-e8a7-f55ac8920709"
      },
      "execution_count": null,
      "outputs": [
        {
          "output_type": "stream",
          "name": "stdout",
          "text": [
            "[{'rouge-1': {'r': 0.0, 'p': 0.0, 'f': 0.0}, 'rouge-2': {'r': 0.0, 'p': 0.0, 'f': 0.0}, 'rouge-l': {'r': 0.0, 'p': 0.0, 'f': 0.0}}]\n"
          ]
        }
      ]
    }
  ]
}